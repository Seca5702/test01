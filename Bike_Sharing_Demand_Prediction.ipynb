{
  "nbformat": 4,
  "nbformat_minor": 0,
  "metadata": {
    "colab": {
      "private_outputs": true,
      "provenance": [],
      "collapsed_sections": [
        "89xtkJwZ18nB",
        "67NQN5KX2AMe",
        "Iwf50b-R2tYG",
        "GMQiZwjn3iu7",
        "WVIkgGqN3qsr",
        "XkPnILGE3zoT",
        "Hlsf0x5436Go",
        "mT9DMSJo4nBL",
        "c49ITxTc407N",
        "OeJFEK0N496M",
        "9ExmJH0g5HBk",
        "cJNqERVU536h",
        "k5UmGsbsOxih",
        "T0VqWOYE6DLQ",
        "qBMux9mC6MCf",
        "TNVZ9zx19K6k",
        "nqoHp30x9hH9",
        "rMDnDkt2B6du",
        "yiiVWRdJDDil",
        "1UUpS68QDMuG",
        "kexQrXU-DjzY",
        "T5CmagL3EC8N",
        "BhH2vgX9EjGr",
        "qjKvONjwE8ra",
        "P1XJ9OREExlT",
        "VFOzZv6IFROw",
        "TIqpNgepFxVj",
        "JWYfwnehpsJ1",
        "-jK_YjpMpsJ2",
        "HAih1iBOpsJ2",
        "zVGeBEFhpsJ2",
        "bmKjuQ-FpsJ3",
        "Fze-IPXLpx6K",
        "7AN1z2sKpx6M",
        "9PIHJqyupx6M",
        "_-qAgymDpx6N",
        "Z-hykwinpx6N",
        "h_CCil-SKHpo",
        "cBFFvTBNJzUa",
        "HvGl1hHyA_VK",
        "KH5McJBi2d8v",
        "iW_Lq9qf2h6X",
        "-Kee-DAl2viO",
        "gCX9965dhzqZ",
        "gIfDvo9L0UH2"
      ],
      "include_colab_link": true
    },
    "kernelspec": {
      "name": "python3",
      "display_name": "Python 3"
    },
    "language_info": {
      "name": "python"
    }
  },
  "cells": [
    {
      "cell_type": "markdown",
      "metadata": {
        "id": "view-in-github",
        "colab_type": "text"
      },
      "source": [
        "<a href=\"https://colab.research.google.com/github/Seca5702/test01/blob/main/Bike_Sharing_Demand_Prediction.ipynb\" target=\"_parent\"><img src=\"https://colab.research.google.com/assets/colab-badge.svg\" alt=\"Open In Colab\"/></a>"
      ]
    },
    {
      "cell_type": "markdown",
      "source": [
        "# **Project Name**    - **Bike Sharing Demand Prediction**\n",
        "\n"
      ],
      "metadata": {
        "id": "vncDsAP0Gaoa"
      }
    },
    {
      "cell_type": "markdown",
      "source": [
        "## **Project Type** - **Regression**\n",
        "## **Contribution**  -  **Individual (Preeti Rai)**\n",
        "<br>\n",
        "\n",
        "![Screenshot (32)](https://user-images.githubusercontent.com/102009481/177841865-7d86b86b-2849-4240-92c5-26ee85b8715b.png)\n"
      ],
      "metadata": {
        "id": "beRrZCGUAJYm"
      }
    },
    {
      "cell_type": "markdown",
      "source": [
        "# **Project Summary -**"
      ],
      "metadata": {
        "id": "FJNUwmbgGyua"
      }
    },
    {
      "cell_type": "markdown",
      "source": [
        "- The project is dedicated to improving public mobility and convenience through the implementation of bike-sharing programs in metropolitan areas. With the aim of ensuring a consistent supply of bikes for rental, we tackle the challenge of predicting demand based on historical data. By leveraging factors such as temperature and time, we employ advanced machine learning techniques to forecast the bike-sharing program's usage in Seoul.\n",
        "\n",
        "- With a dataset containing approximately 8760 records and 14 attributes, we embarked on an extensive data analysis journey. Through exploratory data analysis (EDA), we gained valuable insights and prepared the data for modeling. Cleaning processes were applied to eliminate outliers and handle null values, while appropriate transformations were employed to ensure compatibility with machine learning algorithms.\n",
        "\n",
        "- Subsequently, the cleaned and scaled data was fed into 11 diverse models, allowing us to evaluate their performance using multiple metrics. Hyperparameter tuning was conducted to optimize the models and ensure accurate predictions.\n",
        "\n",
        "- In our evaluation, we prioritize metrics such as the R2 score and RMSE score. The R2 score, being scale-independent, enables us to compare models with different target variables or units of measurement. This provides a robust framework for assessing model performance across various problem domains.\n",
        "\n",
        "- By accurately forecasting bike-sharing demand, we aim to enhance resource allocation, reduce wait times, and elevate the overall user experience."
      ],
      "metadata": {
        "id": "F6v_1wHtG2nS"
      }
    },
    {
      "cell_type": "markdown",
      "source": [
        "# **GitHub Link -**"
      ],
      "metadata": {
        "id": "w6K7xa23Elo4"
      }
    },
    {
      "cell_type": "markdown",
      "source": [
        "https://github.com/Preetirai-tech/Bike-Sharing-Demand-Prediction"
      ],
      "metadata": {
        "id": "h1o69JH3Eqqn"
      }
    },
    {
      "cell_type": "markdown",
      "source": [
        "#**Index**\n",
        "\n",
        "1. Problem Statement\n",
        "2. Know Your Data\n",
        "3. Understanding Your Variables\n",
        "4. EDA\n",
        "5. Data Cleaning\n",
        "6. Feature Engineering\n",
        "7. Model Building\n",
        "8. Model Implementaion.\n",
        "9. Conclusion"
      ],
      "metadata": {
        "id": "GbCUWV3mBdV3"
      }
    },
    {
      "cell_type": "code",
      "source": [],
      "metadata": {
        "id": "DVXpM2vHBWPe"
      },
      "execution_count": null,
      "outputs": []
    },
    {
      "cell_type": "markdown",
      "source": [
        "# **Let's Begin !**"
      ],
      "metadata": {
        "id": "O_i_v8NEhb9l"
      }
    },
    {
      "cell_type": "markdown",
      "source": [
        "# **1. Problem Statement**\n"
      ],
      "metadata": {
        "id": "yQaldy8SH6Dl"
      }
    },
    {
      "cell_type": "markdown",
      "source": [
        "**The \"Bike Sharing Demand Prediction\" project addresses the challenge faced by bike sharing companies in accurately forecasting and meeting the fluctuating demand for bike rentals. The unpredictable nature of bike rental demand poses difficulties in managing fleet size, allocating resources, and providing optimal customer service. Without a reliable demand prediction system, bike sharing companies often struggle to ensure a sufficient number of bikes are available during peak periods, resulting in frustrated customers and missed revenue opportunities. Conversely, overestimating demand leads to surplus bikes and unnecessary operational costs. Therefore, the problem at hand is to develop a robust machine learning model that can accurately forecast bike rental demand, enabling companies to optimize fleet management, allocate resources efficiently, and deliver an exceptional user experience while maximizing profitability.**"
      ],
      "metadata": {
        "id": "DpeJGUA3kjGy"
      }
    },
    {
      "cell_type": "markdown",
      "source": [
        "# **2. Know Your Data**"
      ],
      "metadata": {
        "id": "HhfV-JJviCcP"
      }
    },
    {
      "cell_type": "markdown",
      "source": [
        "### Import Libraries"
      ],
      "metadata": {
        "id": "Y3lxredqlCYt"
      }
    },
    {
      "cell_type": "code",
      "source": [
        "# Import Libraries and modules\n",
        "\n",
        "# libraries that are used for analysis and visualization\n",
        "import pandas as pd\n",
        "import numpy as np\n",
        "import matplotlib.pyplot as plt\n",
        "%matplotlib inline\n",
        "import seaborn as sns\n",
        "import missingno as msno\n",
        "\n",
        "pd.set_option('display.max_columns', 500)\n",
        "\n",
        "plt.style.use('ggplot')\n",
        "\n",
        "# to import datetime library\n",
        "from datetime import datetime\n",
        "import datetime as dt\n",
        "\n",
        "# libraries used to pre-process\n",
        "from sklearn import preprocessing, linear_model\n",
        "from sklearn.preprocessing import StandardScaler\n",
        "from sklearn.preprocessing import OneHotEncoder\n",
        "from sklearn.model_selection import train_test_split\n",
        "\n",
        "\n",
        "# libraries used to implement models\n",
        "from sklearn.linear_model import LinearRegression, Ridge, Lasso, ElasticNet\n",
        "from sklearn.neighbors import KNeighborsRegressor\n",
        "from sklearn.tree import DecisionTreeRegressor\n",
        "from sklearn.ensemble import RandomForestRegressor, ExtraTreesRegressor, GradientBoostingRegressor, AdaBoostRegressor\n",
        "from sklearn.svm import SVR\n",
        "from xgboost import XGBRegressor\n",
        "from lightgbm import LGBMRegressor\n",
        "from sklearn.model_selection import GridSearchCV, RandomizedSearchCV\n",
        "\n",
        "# libraries to evaluate performance\n",
        "from sklearn import metrics\n",
        "from sklearn.metrics import mean_squared_error, r2_score, accuracy_score, mean_absolute_error\n",
        "\n",
        "# Library of warnings would assist in ignoring warnings issued\n",
        "import warnings\n",
        "warnings.filterwarnings('ignore')\n",
        "\n",
        "# to set max column display\n",
        "pd.pandas.set_option('display.max_columns',None)"
      ],
      "metadata": {
        "id": "_af9FbI7dZlS"
      },
      "execution_count": null,
      "outputs": []
    },
    {
      "cell_type": "markdown",
      "source": [
        "### Dataset Loading"
      ],
      "metadata": {
        "id": "3RnN4peoiCZX"
      }
    },
    {
      "cell_type": "code",
      "source": [
        "from google.colab import drive\n",
        "drive.mount('/content/drive')"
      ],
      "metadata": {
        "id": "zVvt-sgnQuxO"
      },
      "execution_count": null,
      "outputs": []
    },
    {
      "cell_type": "code",
      "source": [
        "# Load Seoul Bike Dataset\n",
        "bike_sharing_df = pd.read_csv(\"/content/drive/MyDrive/AlmaBetter/Capstone Project/Supervised: Regression/SeoulBikeData.csv\",\n",
        "                              encoding ='latin')"
      ],
      "metadata": {
        "id": "ZmTNL8L-Rfnr"
      },
      "execution_count": null,
      "outputs": []
    },
    {
      "cell_type": "markdown",
      "source": [
        "### Dataset First View"
      ],
      "metadata": {
        "id": "x71ZqKXriCWQ"
      }
    },
    {
      "cell_type": "code",
      "source": [
        "# Display the first 5 rows\n",
        "bike_sharing_df.head()"
      ],
      "metadata": {
        "id": "LWNFOSvLl09H"
      },
      "execution_count": null,
      "outputs": []
    },
    {
      "cell_type": "code",
      "source": [
        "# Display the last 5 rows\n",
        "bike_sharing_df.tail()"
      ],
      "metadata": {
        "id": "TbmZrGFQKI-m"
      },
      "execution_count": null,
      "outputs": []
    },
    {
      "cell_type": "code",
      "source": [
        "# Check ramdom sample\n",
        "bike_sharing_df.sample(5)"
      ],
      "metadata": {
        "id": "rrNAMU4NamsN"
      },
      "execution_count": null,
      "outputs": []
    },
    {
      "cell_type": "markdown",
      "source": [
        "### Dataset Rows & Columns count"
      ],
      "metadata": {
        "id": "7hBIi_osiCS2"
      }
    },
    {
      "cell_type": "code",
      "source": [
        "# Dimensions of the dataset\n",
        "bike_sharing_df.shape"
      ],
      "metadata": {
        "id": "Kllu7SJgmLij"
      },
      "execution_count": null,
      "outputs": []
    },
    {
      "cell_type": "markdown",
      "source": [
        "There are 8760 rows and 14 columns in this dataset."
      ],
      "metadata": {
        "id": "B5rNNJwULAwI"
      }
    },
    {
      "cell_type": "code",
      "source": [
        "# Number of columns in the data\n",
        "bike_sharing_df.columns"
      ],
      "metadata": {
        "id": "CLTMBSeCLSwo"
      },
      "execution_count": null,
      "outputs": []
    },
    {
      "cell_type": "markdown",
      "source": [
        "### Dataset Information"
      ],
      "metadata": {
        "id": "JlHwYmJAmNHm"
      }
    },
    {
      "cell_type": "code",
      "source": [
        "# Get information about the dataset\n",
        "bike_sharing_df.info()"
      ],
      "metadata": {
        "id": "e9hRXRi6meOf"
      },
      "execution_count": null,
      "outputs": []
    },
    {
      "cell_type": "markdown",
      "source": [
        "**Observation:**\n",
        "\n",
        "- **Float64 datatype:** 6 columns ie ``Temperature(°C)``,  ``Wind speed (m/s``, ``Dew point temperature(°C)``, ``Solar Radiation(MJ/m2)``, ``Rainfall(mm)``, ``Snowfall(cm)`` & ``Seasons``.\n",
        "- **Int64 datatype:** 4 columns ie ``Rented Bike``, ``Count, Hour``, ``Humidity(%)`` & ``Visibility(10m)``.\n",
        "- **Object datatype:** 4 columns ie ``Date``, ``Seasons``, ``Holidays`` & ``Functioming Day``.**\n",
        "\n",
        "\n",
        "\n",
        "\n",
        "\n",
        "\n"
      ],
      "metadata": {
        "id": "DqeIm3N55bFm"
      }
    },
    {
      "cell_type": "code",
      "source": [
        "# Number of unique values in each columns\n",
        "bike_sharing_df.nunique()"
      ],
      "metadata": {
        "id": "oy95AQymUu-X"
      },
      "execution_count": null,
      "outputs": []
    },
    {
      "cell_type": "markdown",
      "source": [
        "**From the above result, it is observed that this datasets contains bike rental data of 1 year (since there are 365 unique values in a Date column)**"
      ],
      "metadata": {
        "id": "prSjyx9lX59T"
      }
    },
    {
      "cell_type": "markdown",
      "source": [
        "#### Duplicate Values"
      ],
      "metadata": {
        "id": "35m5QtbWiB9F"
      }
    },
    {
      "cell_type": "code",
      "source": [
        "# Dataset Duplicate Value Count\n",
        "print('The number of duplicated values in each column:' , bike_sharing_df.duplicated().sum())"
      ],
      "metadata": {
        "id": "1sLdpKYkmox0"
      },
      "execution_count": null,
      "outputs": []
    },
    {
      "cell_type": "markdown",
      "source": [
        "#### Missing Values/Null Values"
      ],
      "metadata": {
        "id": "PoPl-ycgm1ru"
      }
    },
    {
      "cell_type": "code",
      "source": [
        "# Check for missing values\n",
        "\n",
        "bike_sharing_df.isnull().sum()"
      ],
      "metadata": {
        "id": "GgHWkxvamxVg"
      },
      "execution_count": null,
      "outputs": []
    },
    {
      "cell_type": "code",
      "source": [
        "# Visualizing the missing values\n",
        "msno.matrix(bike_sharing_df)"
      ],
      "metadata": {
        "id": "3q5wnI3om9sJ"
      },
      "execution_count": null,
      "outputs": []
    },
    {
      "cell_type": "markdown",
      "source": [
        "**From the above results, it is evident that there are no missing values in the dataset .**"
      ],
      "metadata": {
        "id": "3LA0EmxWeqAx"
      }
    },
    {
      "cell_type": "markdown",
      "source": [
        "### What did you know about your dataset?"
      ],
      "metadata": {
        "id": "H0kj-8xxnORC"
      }
    },
    {
      "cell_type": "markdown",
      "source": [
        "- **The dataset contains 8760 rows and 14 columns.**\n",
        "- **There are 6 columns of datatype float64, 4 columns of datatype int64 and 4 columns of datatype object.**\n",
        "- **There are no missing and duplicate values in the dataset.**\n",
        "- **The dataset contains bike rental data of 1 year.**\n",
        "- **Input features: ``Date``, ``Hour``, ``Temperature(°C)``, ``Humidity(%)``, ``Wind speed (m/s)``,``Visibility (10m)``, ``Dew point temperature(°C)``, ``Solar Radiation (MJ/m2)``, ``Rainfall(mm)``, ``Snowfall (cm)``, ``Season``, ``Holiday`` & ``Functioning Day``**\n",
        "- **Target feature: ``Rented Bike Count``**"
      ],
      "metadata": {
        "id": "gfoNAAC-nUe_"
      }
    },
    {
      "cell_type": "markdown",
      "source": [
        "# **3. Understanding Your Variables**"
      ],
      "metadata": {
        "id": "nA9Y7ga8ng1Z"
      }
    },
    {
      "cell_type": "code",
      "source": [
        "# Dataset Columns\n",
        "bike_sharing_df.columns.tolist()"
      ],
      "metadata": {
        "id": "j7xfkqrt5Ag5"
      },
      "execution_count": null,
      "outputs": []
    },
    {
      "cell_type": "code",
      "source": [
        "# Statistical summary of the dataset\n",
        "bike_sharing_df.describe().T"
      ],
      "metadata": {
        "id": "DnOaZdaE5Q5t"
      },
      "execution_count": null,
      "outputs": []
    },
    {
      "cell_type": "markdown",
      "source": [
        "**Observations:**\n",
        "- ``Rainfall``: 75% of the datapoints recorded were of below 0 cm ie no rainfall. Only 25% records was above 0.\n",
        "- ``Snowfall``: 75% of the datapoints were recorded were of 0 ie No Snowfall. Only 25% was above 0."
      ],
      "metadata": {
        "id": "AwG5TGBgiSI7"
      }
    },
    {
      "cell_type": "code",
      "source": [
        "bike_sharing_df['Seasons'].value_counts()"
      ],
      "metadata": {
        "id": "H9UGxuDnx5-z"
      },
      "execution_count": null,
      "outputs": []
    },
    {
      "cell_type": "code",
      "source": [
        "bike_sharing_df['Functioning Day'].value_counts()"
      ],
      "metadata": {
        "id": "0OZ9G9YTyj84"
      },
      "execution_count": null,
      "outputs": []
    },
    {
      "cell_type": "code",
      "source": [
        "bike_sharing_df['Holiday'].value_counts()"
      ],
      "metadata": {
        "id": "zgt132dOy-hi"
      },
      "execution_count": null,
      "outputs": []
    },
    {
      "cell_type": "markdown",
      "source": [
        "### Variables Description"
      ],
      "metadata": {
        "id": "PBTbrJXOngz2"
      }
    },
    {
      "cell_type": "markdown",
      "source": [
        "The dataset contains weather information (Temperature, Humidity, Windspeed, Visibility, Dewpoint, Solar radiation, Snowfall, Rainfall), the number of bikes rented per hour and date information.\n",
        "\n",
        "**Attribute Information:**\n",
        "- **Date:** The specific calendar date for the bike rental record. <br>\n",
        "- **Rented Bike Count:** The number of bikes rented during a specific time interval.\n",
        "- **Temperature:** The temperature in Celsius at the time of the bike rental.\n",
        "- **Humidity:** The relative humidity percentage at the time of the bike rental.\n",
        "- **Wind Speed:** The speed of the wind in meters per second at the time of the bike rental.\n",
        "- **Visibility:** The visibility in meters at the time of the bike rental.\n",
        "- **Dew Point Temperature:** The temperature at which air becomes saturated and dew forms at the time of the bike rental.\n",
        "- **Solar Radiation:** The amount of solar radiation in mega-joules per square meter at the time of the bike rental.\n",
        "- **Rainfall:** The amount of rainfall in millimeters at the time of the bike rental.\n",
        "- **Snowfall:** The amount of snowfall in centimeters at the time of the bike rental.\n",
        "- **Seasons:** The four seasons (Spring, Summer, Autumn, Winter) corresponding to the bike rental record.\n",
        "\n",
        "- **Holiday:** A categorical variable indicating whether the day of the bike rental record is a holiday or not. It has two possible values: \"Holiday\" and \"No Holiday\". The \"Holiday\" value represents a day that is recognized as a holiday, while the \"No Holiday\" value represents a regular day that is not a designated holiday.\n",
        "\n",
        "- **Functioning Day:** A categorical variable indicating whether the bike rental service was functioning on the day of the record. It has two possible values: \"Yes\" and \"No\". The \"Yes\" value indicates that the bike rental service was operational and functioning normally on that day. Conversely, the \"No\" value indicates that the bike rental service was not operating, potentially due to maintenance, strikes, or other reasons."
      ],
      "metadata": {
        "id": "aJV4KIxSnxay"
      }
    },
    {
      "cell_type": "markdown",
      "source": [
        "### Check Unique Values for each variable."
      ],
      "metadata": {
        "id": "u3PMJOP6ngxN"
      }
    },
    {
      "cell_type": "code",
      "source": [
        "# Check Unique Values for each variable\n",
        "for i in bike_sharing_df.columns.to_list():\n",
        "  print('Number of unique values in', i, 'is', bike_sharing_df[i].nunique())"
      ],
      "metadata": {
        "id": "zms12Yq5n-jE"
      },
      "execution_count": null,
      "outputs": []
    },
    {
      "cell_type": "code",
      "source": [
        "# Converting Date column of datatype Object to Datetime datatype\n",
        "bike_sharing_df['Date'] = pd.to_datetime(bike_sharing_df['Date'], dayfirst = True)"
      ],
      "metadata": {
        "id": "O8DOG67sj7QF"
      },
      "execution_count": null,
      "outputs": []
    },
    {
      "cell_type": "code",
      "source": [
        "# Extracting day name feature\n",
        "bike_sharing_df['Day'] = bike_sharing_df['Date'].dt.day_name()\n",
        "\n",
        "# Extracting month name feature\n",
        "bike_sharing_df['Month'] = bike_sharing_df['Date'].dt.month_name()\n",
        "\n",
        "# Extracting year feature\n",
        "bike_sharing_df['Year'] = bike_sharing_df['Date'].dt.year\n",
        "\n"
      ],
      "metadata": {
        "id": "bMqeligPj7Mr"
      },
      "execution_count": null,
      "outputs": []
    },
    {
      "cell_type": "code",
      "source": [
        "# Dropping Date column\n",
        "bike_sharing_df.drop(columns = ['Date'], inplace = True)"
      ],
      "metadata": {
        "id": "kzLQf1vNGG8r"
      },
      "execution_count": null,
      "outputs": []
    },
    {
      "cell_type": "code",
      "source": [
        "#Rename the complex columns name\n",
        "bike_sharing_df = bike_sharing_df.rename(columns={\n",
        "                                'Temperature(°C)':'Temperature',\n",
        "                                'Humidity(%)':'Humidity',\n",
        "                                'Wind speed (m/s)':'Wind Speed',\n",
        "                                'Visibility (10m)':'Visibility',\n",
        "                                'Dew point temperature(°C)':'Dew point temperature',\n",
        "                                'Solar Radiation (MJ/m2)':'Solar Radiation',\n",
        "                                'Rainfall(mm)':'Rainfall',\n",
        "                                'Snowfall (cm)':'Snowfall',\n",
        "                              })\n"
      ],
      "metadata": {
        "id": "Sk50DpOnFORs"
      },
      "execution_count": null,
      "outputs": []
    },
    {
      "cell_type": "code",
      "source": [
        "bike_sharing_df.sample(3)"
      ],
      "metadata": {
        "id": "dVSBeZIErgQ8"
      },
      "execution_count": null,
      "outputs": []
    },
    {
      "cell_type": "code",
      "source": [
        "# convert Hour and Year columns from integer to object\n",
        "bike_sharing_df['Hour'] = bike_sharing_df['Hour'].astype('object')\n",
        "bike_sharing_df['Year'] = bike_sharing_df['Year'].astype('object')"
      ],
      "metadata": {
        "id": "CVhmxFQjJwNz"
      },
      "execution_count": null,
      "outputs": []
    },
    {
      "cell_type": "markdown",
      "source": [
        "# 4. **Exploratory Data Analysis**"
      ],
      "metadata": {
        "id": "dauF4eBmngu3"
      }
    },
    {
      "cell_type": "markdown",
      "source": [
        "**What is EDA?**\n",
        "\n",
        "- EDA stands for Exploratory Data Analysis. It is a crucial step in the data analysis process that involves exploring and understanding the characteristics, patterns, and relationships within a dataset. EDA aims to uncover insights, identify patterns, detect outliers, and gain a deeper understanding of the data before conducting further analysis or modeling."
      ],
      "metadata": {
        "id": "bKJF3rekwFvQ"
      }
    },
    {
      "cell_type": "markdown",
      "source": [
        "##**4.1 Numeric and Categorical Features**"
      ],
      "metadata": {
        "id": "Y_NBT2gxSGxn"
      }
    },
    {
      "cell_type": "code",
      "source": [
        "# Dividing data into numerical and categorical features\n",
        "\n",
        "categorical_features = bike_sharing_df.select_dtypes(include = 'object')\n",
        "numerical_features = bike_sharing_df.select_dtypes(exclude = 'object')\n"
      ],
      "metadata": {
        "id": "oUzZPHltS123"
      },
      "execution_count": null,
      "outputs": []
    },
    {
      "cell_type": "code",
      "source": [
        "categorical_features.head(2)"
      ],
      "metadata": {
        "id": "A5himtO5SFx5"
      },
      "execution_count": null,
      "outputs": []
    },
    {
      "cell_type": "code",
      "source": [
        "numerical_features.head(2)"
      ],
      "metadata": {
        "id": "CUDL8WbVSFvD"
      },
      "execution_count": null,
      "outputs": []
    },
    {
      "cell_type": "markdown",
      "source": [
        "## **4.2 Univariate Analysis**"
      ],
      "metadata": {
        "id": "9VEsMM3aVUvz"
      }
    },
    {
      "cell_type": "markdown",
      "source": [
        "### **4.2.1 Data Distribution of Numeric features**"
      ],
      "metadata": {
        "id": "9P9A3L3lVkFH"
      }
    },
    {
      "cell_type": "code",
      "source": [
        "# figsize\n",
        "plt.figure(figsize=(15,10))\n",
        "\n",
        "# title\n",
        "plt.suptitle('Data Distribution of Numeric Features', fontsize = 20, fontweight = 'bold', y=1.02)\n",
        "\n",
        "for i, col in enumerate(numerical_features):\n",
        "  # subplots 3 rows and 3 columns\n",
        "  plt.subplot(3, 3, i+1 )\n",
        "\n",
        "  # dist plot\n",
        "  sns.distplot(bike_sharing_df[col])\n",
        "  plt.axvline(bike_sharing_df[col].mean(), color='magenta', linestyle='dashed', linewidth=2)\n",
        "  plt.axvline(bike_sharing_df[col].median(), color='cyan', linestyle='dashed', linewidth=2)\n",
        "\n",
        "  plt.title(col)\n",
        "  plt.tight_layout()\n",
        "\n"
      ],
      "metadata": {
        "id": "ZAAm5C3ASFsJ"
      },
      "execution_count": null,
      "outputs": []
    },
    {
      "cell_type": "markdown",
      "source": [
        "**Observations:**\n",
        "- For numerical features, we can see that the majority of distributions are right-skewed and few are left-skewed.\n",
        "- **Right-skewed columns:** ``Rented Bike Count``, ``Wind speed``, ``Solar Radiation``, ``Rainfall`` & ``Snowfall``.\n",
        "- **Left-skewed columns:** ``Visibility`` & ``Dew point temperature``"
      ],
      "metadata": {
        "id": "i6O_taqWgxuH"
      }
    },
    {
      "cell_type": "markdown",
      "source": [
        "### **4.2.2 Outlier Analysis of Numeric features**"
      ],
      "metadata": {
        "id": "OGcT-QQyseeK"
      }
    },
    {
      "cell_type": "code",
      "source": [
        "# figsize\n",
        "plt.figure(figsize = (15,10))\n",
        "\n",
        "# title\n",
        "plt.suptitle('Outlier Analysis of Numeric features', fontsize = 20, fontweight='bold', y=1.02)\n",
        "\n",
        "for i, col in enumerate(numerical_features):\n",
        "  # subplots 3 rows, 3 columns\n",
        "  plt.subplot(3,3, i+1)\n",
        "\n",
        "  # boxplots\n",
        "  sns.boxplot(numerical_features[col])\n",
        "\n",
        "  plt.title(col)\n",
        "  plt.tight_layout()"
      ],
      "metadata": {
        "id": "bBcruxdPSFmJ"
      },
      "execution_count": null,
      "outputs": []
    },
    {
      "cell_type": "markdown",
      "source": [
        "**Observations:**\n",
        "- Outliers are visible in most of the numerical columns.\n",
        "- These columns are ``Rented Bike Count``, ``Wind Speed``, ``Solar Radiation``, ``Rainfall`` & ``Snowfall``.\n",
        "- The columns like ``Temperature``, ``Humidity``, ``Visibility`` & ``Dew point temperature`` do not contain any outliers."
      ],
      "metadata": {
        "id": "uiJrOZ6Vu85x"
      }
    },
    {
      "cell_type": "markdown",
      "source": [
        "### **4.2.3 Univariate Analysis of Categorical Features**"
      ],
      "metadata": {
        "id": "QH3INnF3yJAO"
      }
    },
    {
      "cell_type": "code",
      "source": [
        "# figure\n",
        "plt.figure(figsize = (20,8))\n",
        "\n",
        "# title\n",
        "plt.suptitle('Univariate Analysis of Categorical Features', fontsize = 20, fontweight = 'bold', y = 1.02)\n",
        "\n",
        "for i, col in enumerate(categorical_features):\n",
        "  # subplots of\n",
        "  plt.subplot(3,3, i+1)\n",
        "\n",
        "  # Countplots\n",
        "  sns.countplot(x = categorical_features[col])\n",
        "\n",
        "  plt.xticks(rotation ='vertical')\n",
        "  plt.title(col)\n",
        "  plt.tight_layout()\n"
      ],
      "metadata": {
        "id": "i72DWI3_SFgt"
      },
      "execution_count": null,
      "outputs": []
    },
    {
      "cell_type": "markdown",
      "source": [
        "**Observations:**\n",
        "- Every hour has an equal number of counts in the dataset.\n",
        "- Every season has almost equal number of counts.\n",
        "- Dataset has more records of No holiday than a holiday which is obvious as most of the days are working days.\n",
        "- Dataset has more records of Functioning Day than no functioning day which is obvious as most of the days are working days.\n",
        "- Except Friday, other Days have equal number of counts in the dataset.\n",
        "- Months like April, June, September, November & February have a slightly low number of count comparted to other months.\n",
        "- More data was colected in the year 2018 than 2017."
      ],
      "metadata": {
        "id": "kpwga4or7MDN"
      }
    },
    {
      "cell_type": "markdown",
      "source": [
        "## **4.3 Bivariate and Multivariate Analysis**"
      ],
      "metadata": {
        "id": "gIrxjtTWBu3s"
      }
    },
    {
      "cell_type": "markdown",
      "source": [
        "### **4.3.1 Analysis between target variable and numerical features**"
      ],
      "metadata": {
        "id": "GN7B65qoB3fe"
      }
    },
    {
      "cell_type": "code",
      "source": [
        "# Identify patterns and trends in numerical features\n",
        "\n",
        "plt.suptitle('Bivariate Analysis of Numerical features', fontsize=20, fontweight='bold', y=1.02)\n",
        "\n",
        "\n",
        "for i in numerical_features:\n",
        "  plt.figure(figsize=(15,6))\n",
        "  sns.lineplot(x= i, y='Rented Bike Count', data = numerical_features, palette='Grouped')\n",
        "  plt.title(f\"Bike Demand over {i}\");\n",
        "  print('\\n')\n",
        "  plt.xticks(rotation = 45)\n"
      ],
      "metadata": {
        "id": "JO5dOkuxWX3N"
      },
      "execution_count": null,
      "outputs": []
    },
    {
      "cell_type": "code",
      "source": [
        "\n",
        "plt.figure(figsize = (15, 10))\n",
        "\n",
        "# title\n",
        "plt.suptitle('Bivariate Analysis of Numerical features', fontsize=20, fontweight='bold', y=1.02)\n",
        "\n",
        "for index, col in enumerate(numerical_features):\n",
        "\n",
        "  # subplots of 3 rows and 3 columns\n",
        "  plt.subplot(3,3, index+1)\n",
        "\n",
        "  # line plots\n",
        "  sns.scatterplot(x = numerical_features[col], y = numerical_features['Rented Bike Count'])\n",
        "\n",
        "  plt.title(f'Bike Damand Over {col}')\n",
        "  plt.xticks(rotation = 45)\n",
        "  plt.tight_layout()\n",
        "\n",
        "\n"
      ],
      "metadata": {
        "id": "yD4LU_vv_9Lw"
      },
      "execution_count": null,
      "outputs": []
    },
    {
      "cell_type": "markdown",
      "source": [
        "### **4.3.2 Bivariate Analysis of Categorical Features**"
      ],
      "metadata": {
        "id": "h0v94LTjJRQ-"
      }
    },
    {
      "cell_type": "code",
      "source": [
        "# Counting number of category present in each feature with respect to target feature\n",
        "\n",
        "# figsize\n",
        "plt.figure(figsize=(15,10))\n",
        "# title\n",
        "plt.suptitle('Bivariate Analysis of Categorical Features', fontsize=20, fontweight='bold', y=1.02)\n",
        "\n",
        "for i,col in enumerate(categorical_features):\n",
        "   # subplots of 3 rows and 3 columns\n",
        "  plt.subplot(3, 3, i+1)\n",
        "  a = bike_sharing_df.groupby(col)[['Rented Bike Count']].mean().reset_index()\n",
        "\n",
        "  # barplot\n",
        "  sns.barplot(x=a[col], y=a['Rented Bike Count'])\n",
        "  # x-axis label\n",
        "  plt.title(f'Average bike rentals across {col}')\n",
        "  plt.xticks(rotation = 'vertical')\n",
        "  plt.tight_layout()"
      ],
      "metadata": {
        "id": "w_SRg4IfNbVn"
      },
      "execution_count": null,
      "outputs": []
    },
    {
      "cell_type": "markdown",
      "source": [
        "**Observations**:\n",
        "- **Hours:** The highest demand is in hours from say 7-10 and from 15-19. This could be the reason that in most of the metroploitan cities this is the peak office time and so more people would be renting bikes.import itertools\n",
        "- **Seasons:** Summer season had the higest Bike Rent Count. People are more likely to rent bikes in summer. Bike rentals in winter is very less compared to other seasons.\n",
        "- **Holidays:** High number of bikes were rented on No Holidays.*\n",
        "- **Functioning Day:** On 'No Functioning Day, only 295 bikes were rented. Hence, this column does not add value to our prediction, we can drop this column in the next steps.*\n",
        "- **Day:** Most of the bikes were rented on Weekdays compared to weekends.*\n",
        "- **Month:** From March Bike Rent Count started increasing and it was highest in June.*"
      ],
      "metadata": {
        "id": "IdFBRiOCmHLl"
      }
    },
    {
      "cell_type": "markdown",
      "source": [
        "### **4.3.3 Multivariate Analysis**"
      ],
      "metadata": {
        "id": "JcSUOBHijcjA"
      }
    },
    {
      "cell_type": "code",
      "source": [
        "# Analysing bike demand with respect to hour and different third value\n",
        "\n",
        "for i in categorical_features:\n",
        "  if i == 'Hour':\n",
        "    pass\n",
        "  else:\n",
        "    plt.figure(figsize=(15,8))\n",
        "    sns.lineplot(x= bike_sharing_df[\"Hour\"], y= bike_sharing_df['Rented Bike Count'], hue= bike_sharing_df[i], marker ='o')\n",
        "    plt.title(f\"Bike Demand over Hour wrt to {i}\")\n",
        "  plt.show()"
      ],
      "metadata": {
        "id": "rwjsX1CGXUrW"
      },
      "execution_count": null,
      "outputs": []
    },
    {
      "cell_type": "code",
      "source": [
        "#Bar plot for seasonwise monthly distribution of Rented_Bike_Count\n",
        "fig,ax=plt.subplots(figsize=(15,8))\n",
        "sns.barplot(x='Month',y='Rented Bike Count',data= bike_sharing_df, hue='Seasons',ax=ax);\n",
        "ax.set_title('Season-wise monthly Rented Bike Count');\n",
        "plt.show();"
      ],
      "metadata": {
        "id": "ldpNWgR_d7ms"
      },
      "execution_count": null,
      "outputs": []
    },
    {
      "cell_type": "markdown",
      "source": [
        "**Observations:**\n",
        "- The above regression plots for the numerical features indicate that the columns ``Temperature``, ``Wind_speed``, ``Visibility``, ``Dew_point_temperature`` & ``Solar_Radiation`` are positively correlated with the target variable, ie , with an increase in these features results in an increase in rented bike count.\n",
        "- On the other hand, ``Rainfall``, ``Snowfall`` & ``Humidity`` are negatively correlated with the target variable, indicating that with an increase in these features results in a decrease in rented bike count."
      ],
      "metadata": {
        "id": "NVBUpljMIKP8"
      }
    },
    {
      "cell_type": "markdown",
      "source": [
        "# **5. Data Cleaning**"
      ],
      "metadata": {
        "id": "Jh33RSOH01Hr"
      }
    },
    {
      "cell_type": "markdown",
      "source": [
        "**What is data cleaning?**\n",
        "Data cleaning, also known as data cleansing or data scrubbing, refers to the process of identifying and correcting or removing errors, inconsistencies, and inaccuracies in a dataset. It involves handling missing data, removing duplicates, addressing outliers, standardizing formats, resolving inconsistencies, and validating data. Data cleaning ensures that the data is accurate, complete, and reliable for analysis or machine learning purposes."
      ],
      "metadata": {
        "id": "4mmVrmyIt_SQ"
      }
    },
    {
      "cell_type": "markdown",
      "source": [
        "## **5.1 Handling Missing Values**"
      ],
      "metadata": {
        "id": "ya3j49rvKPpN"
      }
    },
    {
      "cell_type": "code",
      "source": [
        "# Checking for missing values\n",
        "bike_sharing_df.isnull().sum()"
      ],
      "metadata": {
        "id": "1UjJoym3Lgi_"
      },
      "execution_count": null,
      "outputs": []
    },
    {
      "cell_type": "markdown",
      "source": [
        "**As we can see there are no null values present in our dataset and therefore we are good to go.**"
      ],
      "metadata": {
        "id": "sja2kH_FL_5H"
      }
    },
    {
      "cell_type": "markdown",
      "source": [
        "## **5.2 Handling duplicate values**"
      ],
      "metadata": {
        "id": "5yaKasKuMn8g"
      }
    },
    {
      "cell_type": "code",
      "source": [
        "# Checking for duplicate values\n",
        "bike_sharing_df.duplicated().sum()"
      ],
      "metadata": {
        "id": "Ddjy76Q3L-t1"
      },
      "execution_count": null,
      "outputs": []
    },
    {
      "cell_type": "markdown",
      "source": [
        "**As we can see there are no duplicate values, so we can move ahead.**"
      ],
      "metadata": {
        "id": "-gq5YzdPM4_N"
      }
    },
    {
      "cell_type": "markdown",
      "source": [
        "## **5.3 Handling Outliers**"
      ],
      "metadata": {
        "id": "id1riN9m0vUs"
      }
    },
    {
      "cell_type": "markdown",
      "source": [
        "**Outliers are data points that deviate significantly from the majority of the data and can have a disproportionate impact on statistical analysis or modeling.**"
      ],
      "metadata": {
        "id": "D9rTqAqe8C_k"
      }
    },
    {
      "cell_type": "code",
      "source": [
        "#Creating a boxplot to detect columns with outliers\n",
        "# figsize\n",
        "plt.figure(figsize = (15,10))\n",
        "\n",
        "# title\n",
        "plt.suptitle('Outlier Analysis of Numeric features', fontsize = 20, fontweight='bold', y=1.02)\n",
        "\n",
        "for index , col in enumerate(numerical_features):\n",
        "  # subplots 3 rows, 3 columns\n",
        "  plt.subplot(3,3, index+1)\n",
        "\n",
        "  # boxplots\n",
        "  sns.boxplot(numerical_features[col])\n",
        "\n",
        "  plt.title(col)\n",
        "  plt.tight_layout()"
      ],
      "metadata": {
        "id": "LFYMnpKBL-q2"
      },
      "execution_count": null,
      "outputs": []
    },
    {
      "cell_type": "markdown",
      "source": [
        "**Here we can see that the columns that contain outliers are Rented Bike Count``, ``Windspeed``, ``Solar Radiation``, ``Rainfall`` & ``Snowfall``**"
      ],
      "metadata": {
        "id": "p17-SQdgP3Tj"
      }
    },
    {
      "cell_type": "code",
      "source": [
        "#Creating a list of columns that contains outliers\n",
        "outlier_cols = ['Rented Bike Count', 'Wind Speed', 'Solar Radiation', 'Rainfall','Snowfall']\n",
        "outlier_cols"
      ],
      "metadata": {
        "id": "Qv6RNuAVf-Vt"
      },
      "execution_count": null,
      "outputs": []
    },
    {
      "cell_type": "code",
      "source": [
        "def calculate_ranges(data, column):\n",
        "\n",
        "  # Skip categorical columns\n",
        "  if data[column].dtype == 'object':\n",
        "    return None, None\n",
        "  else:\n",
        "    # Calculate quartiles\n",
        "    Q1 = data[column].quantile(0.25)\n",
        "    Q3 = data[column].quantile(0.75)\n",
        "\n",
        "    # Calculate IQR\n",
        "    IQR = Q3 - Q1\n",
        "\n",
        "    # Calculate upper and lower ranges\n",
        "    upper_range = Q3 + 1.5 * IQR\n",
        "    lower_range = Q1 - 1.5 * IQR\n",
        "\n",
        "    return upper_range, lower_range"
      ],
      "metadata": {
        "id": "u8nUZJWmToVE"
      },
      "execution_count": null,
      "outputs": []
    },
    {
      "cell_type": "code",
      "source": [
        "calculate_ranges(numerical_features, 'Rented Bike Count')"
      ],
      "metadata": {
        "id": "ONydWAROUrDO"
      },
      "execution_count": null,
      "outputs": []
    },
    {
      "cell_type": "code",
      "source": [
        "# Identify potential outliers\n",
        "plt.figure(figsize = (15,10))\n",
        "\n",
        "for index, col in enumerate(outlier_cols):\n",
        "\n",
        "  # Apply calculate_ranges function to get upper bound and lower bound\n",
        "  upper_bound, lower_bound = calculate_ranges(bike_sharing_df, col)\n",
        "\n",
        "  # Identify potential outliers\n",
        "  outliers = bike_sharing_df[(bike_sharing_df[col] > upper_bound) | (bike_sharing_df[col] < lower_bound)]\n",
        "\n",
        "# Visualize the potential outliers\n",
        "  #plt.figure(figsize=(8, 6))\n",
        "\n",
        "  # subplots 3 rows, 3 columns\n",
        "  plt.subplot(3,3, index+1)\n",
        "  plt.hist(bike_sharing_df[col], bins=30, color='lightblue', edgecolor='black', label='Data')\n",
        "  plt.hist(outliers[col], bins=10, color='red', edgecolor='black', label='Potential Outliers')\n",
        "  plt.xlabel(col)\n",
        "  plt.ylabel('Frequency')\n",
        "\n",
        "  plt.suptitle('Distribution of Numerical features with Potential Outliers', fontsize = 20, fontweight='bold', y=1.02)\n",
        "  plt.legend()\n",
        "  plt.tight_layout()\n",
        "  #plt.show()"
      ],
      "metadata": {
        "id": "kqUqKhY8VMAx"
      },
      "execution_count": null,
      "outputs": []
    },
    {
      "cell_type": "code",
      "source": [
        "# Create a function to count the total number of outliers in each column\n",
        "\n",
        "def count_outliers(data):\n",
        "    # Initialize a variable to store the total number of outliers\n",
        "    outlier_count = {}\n",
        "\n",
        "    # Loop through each column in the list containing outliers\n",
        "    for col in outlier_cols:\n",
        "\n",
        "        # Calculate the upper and lower ranges\n",
        "        upper_range, lower_range = calculate_ranges(data, col)\n",
        "\n",
        "        # Count the number of outliers in the column\n",
        "        outlier_count[col] = len(data[(data[col] > upper_range) | (data[col] < lower_range)])\n",
        "\n",
        "    return outlier_count"
      ],
      "metadata": {
        "id": "S3J1vnu8Wpe9"
      },
      "execution_count": null,
      "outputs": []
    },
    {
      "cell_type": "code",
      "source": [
        "# Number of outliers in each column\n",
        "count_outliers(bike_sharing_df)"
      ],
      "metadata": {
        "id": "arkAkzWJXnLC"
      },
      "execution_count": null,
      "outputs": []
    },
    {
      "cell_type": "markdown",
      "source": [
        "**Observation**:\n",
        "- It is not wise to trim the entire outliers as we tend to lose many data points. Hence we are not simply removing the outlier instead of that we are using the clipping method."
      ],
      "metadata": {
        "id": "Hw08_6knlXnn"
      }
    },
    {
      "cell_type": "code",
      "source": [
        "# we do not want any transformation in our target variable as it is possible to have outlier in Seoul Environment\n",
        "# Removing rainfall and snowfall as it may remove important information as these 2 columns are highly skewed.\n",
        "\n",
        "num_features = ['Temperature', 'Humidity', 'Wind Speed', 'Visibility', 'Dew point temperature', 'Solar Radiation']\n"
      ],
      "metadata": {
        "id": "GrdsETrDUYEp"
      },
      "execution_count": null,
      "outputs": []
    },
    {
      "cell_type": "markdown",
      "source": [
        "**Clipping Method:** In this method, we set a cap on our outliers data, which means that if a value is higher than or lower than a certain threshold, all values will be considered outliers. This method replaces values that fall outside of a specified range with either the minimum or maximum value within that range."
      ],
      "metadata": {
        "id": "4momdY3kH-VI"
      }
    },
    {
      "cell_type": "code",
      "source": [
        "# we are going to replace the datapoints with upper and lower bound of all the outliers\n",
        "\n",
        "def clip_outliers(bike_df):\n",
        "    #numerical_features = ['Temperature', 'Humidity', 'Wind Speed', 'Visibility', 'Dew point temperature', 'Solar Radiation']\n",
        "\n",
        "    for col in num_features:\n",
        "        # Using IQR method to define the range of upper and lower limits\n",
        "        q1 = bike_df[col].quantile(0.25)\n",
        "        q3 = bike_df[col].quantile(0.75)\n",
        "        iqr = q3 - q1\n",
        "        lower_bound = q1 - 1.5 * iqr\n",
        "        upper_bound = q3 + 1.5 * iqr\n",
        "\n",
        "        # Replacing the outliers with the upper and lower bounds\n",
        "        bike_df[col] = bike_df[col].clip(lower_bound, upper_bound)\n",
        "\n",
        "    return bike_df\n"
      ],
      "metadata": {
        "id": "z-qa6ayBnerH"
      },
      "execution_count": null,
      "outputs": []
    },
    {
      "cell_type": "code",
      "source": [
        "new_df = bike_sharing_df.copy()\n",
        "# using the function to treat outliers\n",
        "new_df = clip_outliers(new_df)"
      ],
      "metadata": {
        "id": "h1t_lOpHnjfm"
      },
      "execution_count": null,
      "outputs": []
    },
    {
      "cell_type": "code",
      "source": [
        "# checking the boxplot after outlier treatment\n",
        "\n",
        "# figsize\n",
        "plt.figure(figsize=(15,8))\n",
        "# title\n",
        "plt.suptitle('Outlier Analysis of Numerical Features', fontsize=20, fontweight='bold', y=1.02)\n",
        "\n",
        "for i,col in enumerate(num_features):\n",
        "  # subplot of 3 rows and 2 columns\n",
        "  plt.subplot(3, 2, i+1)\n",
        "\n",
        "  # countplot\n",
        "  sns.boxplot(new_df[col])\n",
        "  # x-axis label\n",
        "  plt.xlabel(col)\n",
        "  plt.tight_layout()"
      ],
      "metadata": {
        "id": "1Kg_eME-pT0H"
      },
      "execution_count": null,
      "outputs": []
    },
    {
      "cell_type": "code",
      "source": [
        "# checking for distribution after treating outliers.\n",
        "\n",
        "# figsize\n",
        "plt.figure(figsize=(15,6))\n",
        "# title\n",
        "plt.suptitle('Data Distibution of Numerical Features', fontsize=20, fontweight='bold', y=1.02)\n",
        "\n",
        "for i,col in enumerate(num_features):\n",
        "  # subplots 3 rows, 2 columns\n",
        "  plt.subplot(3, 2, i+1)\n",
        "\n",
        "  # dist plots\n",
        "  sns.distplot(new_df[col])\n",
        "  # x-axis label\n",
        "  plt.xlabel(col)\n",
        "  plt.tight_layout()"
      ],
      "metadata": {
        "id": "y-lEhXhDoiPc"
      },
      "execution_count": null,
      "outputs": []
    },
    {
      "cell_type": "markdown",
      "source": [
        "**We can also observe some shifts in the distribution of the data after treating outliers. Some of the data were skewed before handling outliers, but after doing so, the features almost follow the normal distribution. Therefore, we are not utilizing the numerical feature transformation technique.**"
      ],
      "metadata": {
        "id": "zKiIa_93ptJy"
      }
    },
    {
      "cell_type": "markdown",
      "source": [
        "# **6. Feature Engineering**"
      ],
      "metadata": {
        "id": "G3O1wkFI8vq8"
      }
    },
    {
      "cell_type": "markdown",
      "source": [
        "- Feature engineering is the process of transforming raw data into a set of meaningful, informative, and predictive features that can be used to train machine learning models. It involves selecting, creating, or modifying features in the dataset to enhance the performance and effectiveness of the models.\n",
        "- Feature engineering is a critical step in machine learning because the quality and relevance of features can significantly impact the model's performance. Well-engineered features can help capture relevant patterns, relationships, and structures in the data, enabling the model to make accurate predictions or classifications"
      ],
      "metadata": {
        "id": "YERopvg0-F_K"
      }
    },
    {
      "cell_type": "markdown",
      "source": [
        "## **6.1 Regression Plot**"
      ],
      "metadata": {
        "id": "mdnSveS18-So"
      }
    },
    {
      "cell_type": "code",
      "source": [
        "# Checking Linearity of all numerical features with our target variable\n",
        "\n",
        "# figsize\n",
        "plt.figure(figsize=(15, 10))\n",
        "\n",
        "# title\n",
        "plt.suptitle('Regression Analysis of Numerical features', fontsize=20, fontweight='bold', y=1.02)\n",
        "\n",
        "for i, col in enumerate(numerical_features):\n",
        "\n",
        "  # subplots of 3 rows and 3 columns\n",
        "  plt.subplot(3, 3, i+1)\n",
        "\n",
        "  # regression plots\n",
        "  sns.regplot(x= numerical_features[col], y = numerical_features['Rented Bike Count'], scatter_kws={\"color\": \"blue\"}, line_kws={\"color\": \"red\"})\n",
        "\n",
        "  plt.title(f'Dependend variable and {col}')\n",
        "  plt.tight_layout()\n"
      ],
      "metadata": {
        "id": "knvJncDNSFUN"
      },
      "execution_count": null,
      "outputs": []
    },
    {
      "cell_type": "markdown",
      "source": [
        "**Most of the numerical features are positively correlated to our target variable.**"
      ],
      "metadata": {
        "id": "x2AxgmDn9Odf"
      }
    },
    {
      "cell_type": "markdown",
      "source": [
        "## **6.2 Correlation Coefficient and Heatmap**"
      ],
      "metadata": {
        "id": "K00UrYKN9g15"
      }
    },
    {
      "cell_type": "markdown",
      "source": [
        "- The correlation coefficient is a statistical measure that quantifies the strength and direction of the linear relationship between two variables. It provides an indication of how closely the variables are related to each other.\n",
        "The correlation coefficient, often denoted as \"r,\" ranges from -1 to 1.\n",
        "- A correlation coefficient of 1 indicates a perfect positive linear relationship, where the variables increase or decrease together with a constant slope.\n",
        "- A correlation coefficient of -1 indicates a perfect negative linear relationship, where the variables move in opposite directions with a constant slope.\n",
        "- A correlation coefficient of 0 indicates no linear relationship between the variables.\n",
        "- The correlation coefficient is calculated using the covariance between the variables divided by the product of their standard deviations.\n",
        "- The correlation coefficient provides insight into the strength and direction of the relationship between variables.\n",
        "- However, it only measures linear relationships and does not capture other types of associations, such as nonlinear or complex dependencies.\n"
      ],
      "metadata": {
        "id": "17He_ixh-2tz"
      }
    },
    {
      "cell_type": "code",
      "source": [
        "'''\n",
        "# Heatmap relative to all numeric columns\n",
        "corr_matrix = bike_sharing_df.corr()\n",
        "mask = np.array(corr_matrix)\n",
        "mask[np.tril_indices_from(mask)] = False\n",
        "\n",
        "fig = plt.figure(figsize=(10, 10))\n",
        "sns.heatmap(corr_matrix, mask=mask, annot=True, cbar=True, vmax=0.8, vmin=-0.8, cmap='RdYlGn')\n",
        "plt.show()\n",
        "'''\n",
        "\n",
        "# Heatmap relative to all numeric columns\n",
        "# 只选择数值列计算相关系数\n",
        "numeric_columns = bike_sharing_df.select_dtypes(include=[np.number]).columns\n",
        "corr_matrix = bike_sharing_df[numeric_columns].corr()\n",
        "\n",
        "mask = np.array(corr_matrix)\n",
        "mask[np.tril_indices_from(mask)] = False\n",
        "\n",
        "fig = plt.figure(figsize=(10, 10))\n",
        "sns.heatmap(corr_matrix, mask=mask, annot=True, cbar=True, vmax=0.8, vmin=-0.8, cmap='RdYlGn')\n",
        "plt.show()"
      ],
      "metadata": {
        "id": "RYjXeHjHA-yG"
      },
      "execution_count": null,
      "outputs": []
    },
    {
      "cell_type": "code",
      "source": [
        "'''\n",
        "plt.figure(figsize=(2,4), dpi=150)\n",
        "sns.heatmap(bike_sharing_df.corr()[[\"Rented Bike Count\"]].sort_values\n",
        "            (by=\"Rented Bike Count\", ascending=False)[1:],annot=True)\n",
        "plt.title('Features Correlating with Rented Bike Count', fontsize=10, fontweight='bold', y=1.02);\n",
        "\n",
        "#heatmap.set_title('Features Correlating with Rented Bike Count', fontdict={'fontsize':18}, pad=16);\n",
        "'''\n",
        "\n",
        "plt.figure(figsize=(2,4), dpi=150)\n",
        "\n",
        "# 只选择数值列计算相关系数\n",
        "numeric_columns = bike_sharing_df.select_dtypes(include=[np.number]).columns\n",
        "corr_with_target = bike_sharing_df[numeric_columns].corr()[[\"Rented Bike Count\"]].sort_values(\n",
        "            by=\"Rented Bike Count\", ascending=False)[1:]\n",
        "\n",
        "sns.heatmap(corr_with_target, annot=True)\n",
        "plt.title('Features Correlating with Rented Bike Count', fontsize=10, fontweight='bold', y=1.02)\n",
        "plt.tight_layout()\n",
        "plt.show()"
      ],
      "metadata": {
        "id": "AbSvWkDIPv6L"
      },
      "execution_count": null,
      "outputs": []
    },
    {
      "cell_type": "markdown",
      "source": [
        "**From the above graph we could see that the columns Temperature and Dew Point Temperature are highly corelated. We can drop one of them. As the corelation between Temperature and our dependent variable \"Bike Rented Count\" is high compared to Dew Point Temperature. So we will Keep the Temperature column and drop the Dew Point Temperature column.**"
      ],
      "metadata": {
        "id": "OEfTHxOUDvCq"
      }
    },
    {
      "cell_type": "code",
      "source": [
        "# droping Dew point temperature column due to multi-collinearity\n",
        "\n",
        "new_df.drop('Dew point temperature', axis=1, inplace=True)\n"
      ],
      "metadata": {
        "id": "y4UUxKhJEKWG"
      },
      "execution_count": null,
      "outputs": []
    },
    {
      "cell_type": "markdown",
      "source": [
        "# **6.3 VIF**"
      ],
      "metadata": {
        "id": "s5ttalRXJHI9"
      }
    },
    {
      "cell_type": "markdown",
      "source": [
        "- VIF, which stands for Variance Inflation Factor, is a measure used in regression analysis to assess multicollinearity among predictor variables.\n",
        "- Multicollinearity occurs when predictor variables in a regression model are highly correlated with each other, which can cause issues in interpreting the individual effects of the variables and can lead to unstable and unreliable model estimates.\n",
        "- The VIF quantifies the extent to which the variance of the estimated regression coefficient is inflated due to multicollinearity.\n",
        "- It measures how much the variance of a particular predictor variable's estimated coefficient is increased compared to if that variable were uncorrelated with the other predictor variables in the model.\n",
        "\n",
        "Interpreting VIF values:\n",
        "- A VIF of 1 indicates no multicollinearity, meaning the predictor variable is not correlated with the other predictors.\n",
        "- A VIF greater than 1 suggests some degree of multicollinearity, where higher values indicate stronger correlation with other predictors.\n",
        "- A commonly used threshold is a VIF value of 5 or 10. Variables with VIF values exceeding these thresholds are considered to have high multicollinearity and may need to be addressed.\n",
        "\n",
        "By examining VIF values, researchers can identify predictor variables that contribute to multicollinearity and take appropriate actions, such as removing highly correlated variables, combining variables, or gathering additional data to mitigate the multicollinearity issue."
      ],
      "metadata": {
        "id": "v1RrAtwXJb96"
      }
    },
    {
      "cell_type": "code",
      "source": [
        "from statsmodels.stats.outliers_influence import variance_inflation_factor\n",
        "\n",
        "# function to calculate Multicollinearity\n",
        "\n",
        "def calculate_vif(X):\n",
        "\n",
        "  # For each X, calculate VIF and save in dataframe\n",
        "  vif = pd.DataFrame()\n",
        "  vif[\"VIF Factor\"] = [variance_inflation_factor(X.values, i) for i in range(X.shape[1])]\n",
        "  vif[\"features\"] = X.columns\n",
        "\n",
        "  return vif"
      ],
      "metadata": {
        "id": "9vrQ6Nm-EKSh"
      },
      "execution_count": null,
      "outputs": []
    },
    {
      "cell_type": "code",
      "source": [
        "# multicollinearity result\n",
        "\n",
        "calculate_vif(new_df[[i for i in new_df.describe().columns if i not in ['Rented Bike Count','Date']]])"
      ],
      "metadata": {
        "id": "Z00K85WQEKQg"
      },
      "execution_count": null,
      "outputs": []
    },
    {
      "cell_type": "markdown",
      "source": [
        "**These are our final numerical variables to be considered for model building.**"
      ],
      "metadata": {
        "id": "0i8kjTDLLv9Z"
      }
    },
    {
      "cell_type": "markdown",
      "source": [
        "## **6.4 Encoding**"
      ],
      "metadata": {
        "id": "FzBvF0bQMAAy"
      }
    },
    {
      "cell_type": "markdown",
      "source": [
        "Encoding refers to the process of converting categorical variables into numerical representations that can be understood and processed by machine learning algorithms. Since many machine learning algorithms require numerical inputs, encoding categorical variables becomes necessary.\n",
        "\n",
        "Common techniques for encoding categorical variables in machine learning include:\n",
        "\n",
        "1. One-Hot Encoding: This technique creates binary columns for each category in a categorical variable. Each category is represented by a separate binary column, where a value of 1 indicates the presence of that category and 0 indicates its absence. This approach allows algorithms to interpret categorical variables without assuming any ordinal relationship among the categories.\n",
        "\n",
        "2. Label Encoding: Label encoding assigns a unique numerical label to each category in a categorical variable. Each category is mapped to a corresponding numerical value. However, caution should be exercised with label encoding, as it may introduce an arbitrary ordinal relationship between the categories, which may not be appropriate for some algorithms.\n",
        "\n",
        "3. Ordinal Encoding: Similar to label encoding, ordinal encoding assigns numerical labels to categories. However, in ordinal encoding, the labels are assigned in a way that represents an ordered relationship between the categories. This can be useful when there is a natural order or hierarchy among the categories.\n",
        "\n",
        "4. Target Encoding: Target encoding replaces each category with the mean (or another statistical measure) of the target variable within that category. Target encoding can be helpful when the relationship between the categorical variable and the target variable is important for prediction."
      ],
      "metadata": {
        "id": "J9VASTCJ29k5"
      }
    },
    {
      "cell_type": "code",
      "source": [
        "# droping Year columns as it does not account for any information addition\n",
        "\n",
        "new_df.drop(['Year'], axis=1, inplace = True)\n",
        "categorical_features.drop('Year', axis = 1, inplace = True)"
      ],
      "metadata": {
        "id": "zO5tUKgVxZXj"
      },
      "execution_count": null,
      "outputs": []
    },
    {
      "cell_type": "code",
      "source": [
        "# Check Unique Values for each categorical variable.\n",
        "for i in categorical_features:\n",
        "  print(\"Number of unique values in\", i, \"is\" , new_df[i].nunique())"
      ],
      "metadata": {
        "id": "Ueo4ELdX0UYZ"
      },
      "execution_count": null,
      "outputs": []
    },
    {
      "cell_type": "markdown",
      "source": [
        "**We will use one hot encoding for ``Seasons`` and Numeric encoding for ``Holiday`` and ``Functioning day``. Other columns are already encoded.**"
      ],
      "metadata": {
        "id": "CdN4G6JS4v4L"
      }
    },
    {
      "cell_type": "code",
      "source": [
        "ab = new_df.copy()\n",
        "ab =pd.get_dummies(ab, columns=['Seasons'],prefix='Seasons',drop_first=True)"
      ],
      "metadata": {
        "id": "1tIpiLYm6Te9"
      },
      "execution_count": null,
      "outputs": []
    },
    {
      "cell_type": "code",
      "source": [
        "ab.head()"
      ],
      "metadata": {
        "id": "lMcj7SzL67PA"
      },
      "execution_count": null,
      "outputs": []
    },
    {
      "cell_type": "code",
      "source": [
        "new_df = pd.get_dummies(new_df, columns = ['Seasons'], prefix='Seasons', drop_first = True)"
      ],
      "metadata": {
        "id": "r-aqRs6mLvd9"
      },
      "execution_count": null,
      "outputs": []
    },
    {
      "cell_type": "code",
      "source": [
        "new_df.head(2)"
      ],
      "metadata": {
        "id": "eo8JnBl_EKFp"
      },
      "execution_count": null,
      "outputs": []
    },
    {
      "cell_type": "code",
      "source": [
        "# Numerical Encoding for holiday and functioning_day\n",
        "\n",
        "new_df['Holiday'] = new_df['Holiday'].map({'Holiday': 1, 'No Holiday': 0})\n",
        "\n",
        "new_df['Functioning Day'] = new_df['Functioning Day'].map({'Yes': 1, 'No': 0})"
      ],
      "metadata": {
        "id": "1TOIHVTSEKDb"
      },
      "execution_count": null,
      "outputs": []
    },
    {
      "cell_type": "code",
      "source": [
        "new_df.head(2)"
      ],
      "metadata": {
        "id": "iEQawgaMEJ_P"
      },
      "execution_count": null,
      "outputs": []
    },
    {
      "cell_type": "markdown",
      "source": [
        "## **6.5 Normalization of Target Variable**"
      ],
      "metadata": {
        "id": "YHgQXKEOCJ2M"
      }
    },
    {
      "cell_type": "code",
      "source": [
        "fig, ax = plt.subplots(1,2 , figsize = (15,5))\n",
        "\n",
        "# Distribution plot of Rented Bike Count\n",
        "dist =sns.distplot(new_df['Rented Bike Count'],hist=True, ax = ax[0])\n",
        "dist.set(xlabel = 'Rented Bike Count', ylabel ='Density', title = 'Distribution Plot of Target Variable')\n",
        "\n",
        "# mean line\n",
        "dist.axvline(new_df['Rented Bike Count'].mean(), color='magenta', linestyle='dashed', linewidth=2)\n",
        "# median line\n",
        "dist.axvline(new_df['Rented Bike Count'].median(), color='black', linestyle='dashed', linewidth=2)\n",
        "\n",
        "# Boxplot\n",
        "box = sns.boxplot(new_df['Rented Bike Count'], ax= ax[1])\n",
        "box.set(title = 'Outlier Analysis of Target Variable')\n",
        "plt.show()"
      ],
      "metadata": {
        "id": "ZVBoK7n1CoM8"
      },
      "execution_count": null,
      "outputs": []
    },
    {
      "cell_type": "markdown",
      "source": [
        "**Observation:**\n",
        "\n",
        "- The graph above indicates that the Rented Bike Count has a moderate right skewness. Linear regression assumes that the dependent variable has a normal distribution, therefore, to meet this assumption, we need to take some measures to normalize the distribution.\n",
        "- The boxplot above indicates that there are outliers in the rented bike count column."
      ],
      "metadata": {
        "id": "MYm1V0bmG1sK"
      }
    },
    {
      "cell_type": "code",
      "source": [
        "#apply diffrent tranformation technique and checking data distributation\n",
        "fig,axes = plt.subplots(1,4,figsize=(20,5))\n",
        "sns.distplot((new_df['Rented Bike Count']),ax=axes[0],color='brown').set_title(\" Input data\");\n",
        "\n",
        "# here we use log10\n",
        "#transform only posible in positive value and >0 value so add 0.0000001 in data\n",
        "sns.distplot(np.log1p(new_df['Rented Bike Count']),ax=axes[1],color='red').set_title(\"log1p\");\n",
        "\n",
        "# here we use square root\n",
        "sns.distplot(np.sqrt(new_df['Rented Bike Count']),ax=axes[2], color='blue').set_title(\"Square root\");\n",
        "\n",
        "# here we use cube root\n",
        "sns.distplot(np.cbrt(new_df['Rented Bike Count']),ax=axes[3], color='green').set_title(\"cube root\");"
      ],
      "metadata": {
        "id": "2sNrm6Q1YBPC"
      },
      "execution_count": null,
      "outputs": []
    },
    {
      "cell_type": "markdown",
      "source": [
        "**Observations:**\n",
        "\n",
        "- Applying a logarithmic transformation to the dependent variable did not help much as it resulted in a negatively skewed distribution.\n",
        "- Square root and cube root transformations were attempted, but they did not result in a normally distributed variable.\n",
        "- Therefore, we will use a square root transformation for the regression as it transformed the variable into a well-distributed form."
      ],
      "metadata": {
        "id": "JLmMNUoYaPrg"
      }
    },
    {
      "cell_type": "code",
      "source": [
        "\n",
        "fig, ax = plt.subplots(1,2 , figsize = (15,5))\n",
        "\n",
        "#  checking square root tranformation in our target variable\n",
        "dist =sns.distplot(np.sqrt(new_df['Rented Bike Count']), ax = ax[0])\n",
        "dist.set(xlabel = 'Rented Bike Count', ylabel ='Density', title = 'Distribution Plot of Target Variable in sqrt tranformation')\n",
        "\n",
        "# mean line\n",
        "dist.axvline(np.sqrt(new_df['Rented Bike Count']).mean(), color='magenta', linestyle='dashed', linewidth=2)\n",
        "# median line\n",
        "dist.axvline(np.sqrt(new_df['Rented Bike Count']).median(), color='black', linestyle='dashed', linewidth=2)\n",
        "\n",
        "# Boxplot\n",
        "box = sns.boxplot(np.sqrt(new_df['Rented Bike Count']), ax= ax[1])\n",
        "box.set(title = 'Outlier Analysis of Target Variable in sqrt tranformation')\n",
        "plt.show()"
      ],
      "metadata": {
        "id": "qTfaMUTia1Tl"
      },
      "execution_count": null,
      "outputs": []
    },
    {
      "cell_type": "markdown",
      "source": [
        "**Observation**\n",
        "\n",
        "- By applying the square root transformation to the skewed Rented Bike Count, we were able to obtain an almost normal distribution, which is in line with the general rule that skewed variables should be normalized in linear regression.\n",
        "- We found that there are no outliers in the Rented Bike Count column after applying square root transformation."
      ],
      "metadata": {
        "id": "e4ZgGt95bXYl"
      }
    },
    {
      "cell_type": "code",
      "source": [
        "# applying square root on Rented_Bike_Count\n",
        "new_df['Rented Bike Count']=np.sqrt(new_df['Rented Bike Count'])"
      ],
      "metadata": {
        "id": "sxpS-WevcbOx"
      },
      "execution_count": null,
      "outputs": []
    },
    {
      "cell_type": "markdown",
      "source": [
        "## **Manipulations done and insights found**"
      ],
      "metadata": {
        "id": "fu-U3p5gbx8k"
      }
    },
    {
      "cell_type": "markdown",
      "source": [
        "- We checked for correlation coefficient and found that most of the numerical features are positively correlated to our target variable.\n",
        "- From heatmap and correlation coefficient, dew_point_temperature and temperature have a correlation coefficient of 0.91 and dew_point_temperature is less correlated to our target variable hence we dropped dew_point_temperature.\n",
        "- We also did a VIF analysis to remove multi-colinearity and since the VIF factor of 'year' is too large hence we removed the year from our data to build our model.\n",
        "- We encoded our categorical features which are necessary for the model to understand. We used one hot encoding for 'seasons' and Numeric encoding for 'holiday' and 'functioning_day'. Other columns are already encoded.\n",
        "- To treat our target variable we Applied a logarithmic transformation to the target variable did not help much as it resulted in a negatively skewed distribution, Square root, and cube root transformations were attempted, but they did not result in a normally distributed variable. Therefore, we used a square root transformation for the regression as it transformed the variable into a well-distributed form."
      ],
      "metadata": {
        "id": "F7H8SZ-Cb5XZ"
      }
    },
    {
      "cell_type": "markdown",
      "source": [
        "# **7. Model Building**"
      ],
      "metadata": {
        "id": "8FbPbQx-cEqV"
      }
    },
    {
      "cell_type": "markdown",
      "source": [
        "## **7.1 Train Test Split**"
      ],
      "metadata": {
        "id": "CVhQtPRBcLk2"
      }
    },
    {
      "cell_type": "code",
      "source": [
        "#X = independent variable and y = target variable\n",
        "X = new_df.drop('Rented Bike Count', axis=1)\n",
        "y= new_df['Rented Bike Count']"
      ],
      "metadata": {
        "id": "fZJqU1Kvc5jR"
      },
      "execution_count": null,
      "outputs": []
    },
    {
      "cell_type": "code",
      "source": [
        "# train test split\n",
        "X_train, X_test, y_train, y_test = train_test_split(X, y, test_size=0.2, random_state=33)\n",
        "\n",
        "print(X_train.shape)\n",
        "print(X_test.shape)"
      ],
      "metadata": {
        "id": "7jy7qX-nc5fK"
      },
      "execution_count": null,
      "outputs": []
    },
    {
      "cell_type": "markdown",
      "source": [
        "## **7.2 Scaling Data**"
      ],
      "metadata": {
        "id": "SHTILNQGeJ9J"
      }
    },
    {
      "cell_type": "code",
      "source": [
        "'''\n",
        "# Scaling Data\n",
        "scaler = StandardScaler()\n",
        "\n",
        "X_train = scaler.fit_transform(X_train)\n",
        "X_test = scaler.transform(X_test)\n",
        "'''\n",
        "\n",
        "from sklearn.compose import ColumnTransformer\n",
        "from sklearn.preprocessing import StandardScaler, OneHotEncoder\n",
        "from sklearn.pipeline import Pipeline\n",
        "\n",
        "# 假设我们已经知道哪些是数值列，哪些是分类列\n",
        "# 你需要根据你的实际数据调整这些列表\n",
        "numeric_features = ['Temperature', 'Humidity', 'Wind Speed', 'Visibility',\n",
        "                    'Solar Radiation', 'Rainfall', 'Snowfall', 'Holiday',\n",
        "                    'Functioning Day']  # 数值列\n",
        "\n",
        "categorical_features = ['Hour', 'Seasons', 'Day', 'Month']  # 分类列\n",
        "\n",
        "# 创建预处理管道\n",
        "preprocessor = ColumnTransformer(\n",
        "    transformers=[\n",
        "        ('num', StandardScaler(), numeric_features),\n",
        "        ('cat', OneHotEncoder(drop='first', handle_unknown='ignore'), categorical_features)\n",
        "    ])\n",
        "\n",
        "# 应用预处理\n",
        "X_train = preprocessor.fit_transform(X_train)\n",
        "X_test = preprocessor.transform(X_test)\n",
        "\n",
        "print(\"预处理完成\")\n",
        "print(\"X_train shape:\", X_train.shape)\n",
        "print(\"X_test shape:\", X_test.shape)"
      ],
      "metadata": {
        "id": "VGLTth_Uc5cq"
      },
      "execution_count": null,
      "outputs": []
    },
    {
      "cell_type": "markdown",
      "source": [
        "**Evaluation Metrics Used -**\n",
        "- The mean squared error (MSE):- It tells you how close a regression line is to a set of points.\n",
        "\n",
        "- Root Mean Square Error (RMSE):- It is the standard deviation of the residuals (prediction errors).\n",
        "\n",
        "- Mean Absolute Error (MAE):- These are metrics used to evaluate a Regression Model. ... Here, errors are the absolute differences between the predicted values (values predicted by our regression model) and the actual values of a variable.\n",
        "\n",
        "- R-squared (R2):- It is a statistical measure that represents the proportion of the variance for a dependent variable that's explained by an independent variable or variables in a regression model.\n",
        "\n",
        "- Adjusted R-squared:- It is a modified version of R-squared that has been adjusted for the number of predictors in the model.\n",
        "\n",
        "​"
      ],
      "metadata": {
        "id": "eHsHzheI5M_K"
      }
    },
    {
      "cell_type": "markdown",
      "source": [
        "## **7.3 Model Training**"
      ],
      "metadata": {
        "id": "LDCJptgr5eS2"
      }
    },
    {
      "cell_type": "code",
      "source": [
        "# empty list for appending performance metric score\n",
        "model_result = []\n",
        "\n",
        "def predict(ml_model,model_name):\n",
        "\n",
        "  '''\n",
        "  Pass the model and predict value.\n",
        "  Function will calculate all the evaluation metrics and appending those metrics score on model_result list.\n",
        "  Plotting different graphs for test data.\n",
        "  '''\n",
        "\n",
        "  # model fitting\n",
        "  model = ml_model.fit(X_train,y_train)\n",
        "\n",
        "  # predicting values\n",
        "  y_train_pred = model.predict(X_train)\n",
        "  y_test_pred = model.predict(X_test)\n",
        "\n",
        "  # Reverse the transformation on the predictions    (In case if we need y_train_pred in original and transformed way)\n",
        "  y_train_pred_original = np.power(y_train_pred, 2)\n",
        "  y_test_pred_original = np.power(y_test_pred, 2)\n",
        "\n",
        "  # graph --> best fit line on test data\n",
        "  sns.regplot(x=y_test_pred, y=y_test, line_kws={'color':'red'})\n",
        "  plt.xlabel('Predicted')\n",
        "  plt.ylabel('Actual')\n",
        "\n",
        "  '''Evaluation metrics on train data'''\n",
        "  train_MSE  = round(mean_squared_error(y_train, y_train_pred),3)\n",
        "  train_RMSE = round(np.sqrt(train_MSE),3)\n",
        "  train_r2 = round(r2_score(y_train, y_train_pred),3)\n",
        "  train_MAE = round(mean_absolute_error(y_train, y_train_pred),3)\n",
        "  train_adj_r2 = round(1-(1-r2_score(y_train, y_train_pred))*((X_train.shape[0]-1)/(X_train.shape[0]-X_train.shape[1]-1)),3)\n",
        "  print(f'train MSE : {train_MSE}')\n",
        "  print(f'train RMSE : {train_RMSE}')\n",
        "  print(f'train MAE : {train_MAE}')\n",
        "  print(f'train R2 : {train_r2}')\n",
        "  print(f'train Adj R2 : {train_adj_r2}')\n",
        "  print('-'*150)\n",
        "\n",
        "  '''Evaluation metrics on test data'''\n",
        "  test_MSE  = round(mean_squared_error(y_test, y_test_pred),3)\n",
        "  test_RMSE = round(np.sqrt(test_MSE),3)\n",
        "  test_r2 = round(r2_score(y_test, y_test_pred),3)\n",
        "  test_MAE = round(mean_absolute_error(y_test, y_test_pred),3)\n",
        "  test_adj_r2 = round(1-(1-r2_score(y_test, y_test_pred))*((X_test.shape[0]-1)/(X_test.shape[0]-X_test.shape[1]-1)),3)\n",
        "  print(f'test MSE : {test_MSE}')\n",
        "  print(f'test RMSE : {test_RMSE}')\n",
        "  print(f'test MAE : {test_MAE}')\n",
        "  print(f'test R2 : {test_r2}')\n",
        "  print(f'test Adj R2 : {test_adj_r2}')\n",
        "  print('-'*150)\n",
        "\n",
        "  # graph --> actual vs predicted on test data\n",
        "  plt.figure(figsize=(6,5))\n",
        "  plt.plot((y_test_pred)[:20])\n",
        "  plt.plot(np.array((y_test)[:20]))\n",
        "  plt.legend([\"Predicted\",\"Actual\"])\n",
        "  plt.xlabel('Test Data on last 20 points')\n",
        "  plt.show()\n",
        "  print('-'*150)\n",
        "\n",
        "  '''actual vs predicted value on test data'''\n",
        "  d = {'y_actual':y_test, 'y_predict':y_test_pred, 'error':y_test-y_test_pred}\n",
        "  print(pd.DataFrame(data=d).head().T)\n",
        "  print('-'*150)\n",
        "\n",
        "  # using the score from the performance metrics to create the final model_result.\n",
        "  model_result.append({'model':model_name,\n",
        "                       'train MSE':train_MSE,\n",
        "                       'test MSE':test_MSE,\n",
        "                       'train RMSE':train_RMSE,\n",
        "                       'test RMSE':test_RMSE,\n",
        "                       'train MAE':train_MAE,\n",
        "                       'test MAE':test_MAE,\n",
        "                       'train R2':train_r2,\n",
        "                       'test R2':test_r2,\n",
        "                       'train Adj R2':train_adj_r2,\n",
        "                       'test Adj R2':test_adj_r2})"
      ],
      "metadata": {
        "id": "uMYU5L1Xc5Z9"
      },
      "execution_count": null,
      "outputs": []
    },
    {
      "cell_type": "markdown",
      "source": [
        "# **8. Model Implementation**"
      ],
      "metadata": {
        "id": "dn4sxNcl6K9A"
      }
    },
    {
      "cell_type": "markdown",
      "source": [
        "## **8.1 Linear Regression**"
      ],
      "metadata": {
        "id": "pnP8mbfA6SCl"
      }
    },
    {
      "cell_type": "markdown",
      "source": [
        "Linear regression is a statistical method used to model the relationship between a dependent variable and one or more independent variables by fitting a linear equation to the observed data. The goal is to find the best-fitting line that can predict the value of the dependent variable based on the values of the independent variables."
      ],
      "metadata": {
        "id": "KCjZtQzq6q-x"
      }
    },
    {
      "cell_type": "code",
      "source": [
        "predict(LinearRegression(), 'LinearRegression')"
      ],
      "metadata": {
        "id": "MjswAy1a6RQB"
      },
      "execution_count": null,
      "outputs": []
    },
    {
      "cell_type": "markdown",
      "source": [
        "## **8.2 Lasso**"
      ],
      "metadata": {
        "id": "zdVMsvWk8xAK"
      }
    },
    {
      "cell_type": "markdown",
      "source": [
        "Lasso (Least Absolute Shrinkage and Selection Operator) is a regularization technique used in linear regression models. It helps to reduce the complexity of the model and improve its generalization ability by penalizing the magnitude of coefficients of the features.\n",
        "\n",
        "The lasso regularization adds a penalty term to the loss function being optimized. The penalty term is proportional to the absolute magnitude of the coefficients, but unlike ridge regression, it shrinks the coefficients of some features to zero, effectively removing them from the model."
      ],
      "metadata": {
        "id": "a21nXhck83HW"
      }
    },
    {
      "cell_type": "code",
      "source": [
        "predict(Lasso(alpha=0.1, max_iter=1000), 'Lasso')"
      ],
      "metadata": {
        "id": "tq012Uuzc5Xi"
      },
      "execution_count": null,
      "outputs": []
    },
    {
      "cell_type": "markdown",
      "source": [
        "## **8.3 Ridge**"
      ],
      "metadata": {
        "id": "Rq64Y6Yz9JaF"
      }
    },
    {
      "cell_type": "markdown",
      "source": [
        "Ridge Regression is a type of regularized linear regression that aims to solve the problem of multicollinearity and overfitting by adding a penalty term to the loss function. The penalty term is the L2 regularization term (also known as the weight decay term), which adds a penalty proportional to the square of the magnitude of the coefficients."
      ],
      "metadata": {
        "id": "ybVzwfQI9P4c"
      }
    },
    {
      "cell_type": "code",
      "source": [
        "predict(Ridge(alpha=0.1, max_iter=1000), 'Ridge')"
      ],
      "metadata": {
        "id": "7DId2Ltpc5Ux"
      },
      "execution_count": null,
      "outputs": []
    },
    {
      "cell_type": "markdown",
      "source": [
        "## **8.4 Elastic Net**"
      ],
      "metadata": {
        "id": "PP3m08-_9YMd"
      }
    },
    {
      "cell_type": "markdown",
      "source": [
        "ElasticNet is a linear regression algorithm that combines both L1 (Lasso) and L2 (Ridge) regularization techniques. L1 and L2 regularization are methods used to prevent overfitting by adding penalty terms to the loss function that the algorithm minimizes. Lasso adds a penalty proportional to the absolute value of the coefficients, while Ridge adds a penalty proportional to the square of the coefficients."
      ],
      "metadata": {
        "id": "ZgZ1I3ED9yuR"
      }
    },
    {
      "cell_type": "code",
      "source": [
        "predict(ElasticNet(alpha=0.1, max_iter=1000), 'Elastic Net')"
      ],
      "metadata": {
        "id": "HtIM6Ay59XEV"
      },
      "execution_count": null,
      "outputs": []
    },
    {
      "cell_type": "markdown",
      "source": [
        "## **8.5 K-Nearest Neighbors**"
      ],
      "metadata": {
        "id": "LpEUEtBW_mZZ"
      }
    },
    {
      "cell_type": "markdown",
      "source": [
        "A supervised machine learning algorithm known as KNN or K-nearest neighbor can be used to solve classification and regression problems. K is not a non-parametric nearest neighbor, i.e. It makes no assumptions regarding the assumptions that underlie the data. An input or unseen data set is categorized here by the algorithm based on the characteristics shared by the closest data points. The distance between two points determines these closest neighbors. The distance metric methods that are utilized can be Euclidean Distance, Manhattan Distance, Minkowski, Cosine Similarity Measure etc)"
      ],
      "metadata": {
        "id": "IZz9TEdg_rI8"
      }
    },
    {
      "cell_type": "code",
      "source": [
        "predict(KNeighborsRegressor(n_neighbors=3),'KNN')"
      ],
      "metadata": {
        "id": "yekI7is3_N9d"
      },
      "execution_count": null,
      "outputs": []
    },
    {
      "cell_type": "markdown",
      "source": [
        "## **8.6 Support Vector Machine**"
      ],
      "metadata": {
        "id": "METLOZZZ_ygm"
      }
    },
    {
      "cell_type": "markdown",
      "source": [
        "Support Vector Machine (SVM) is a popular and powerful machine learning algorithm for classification and regression problems. It is based on the concept of finding the best hyperplane that separates the data into classes, or predicts the target value for regression problems."
      ],
      "metadata": {
        "id": "hD44Mim-_6SB"
      }
    },
    {
      "cell_type": "code",
      "source": [
        "predict(SVR(kernel='rbf',C=100), 'SVM')"
      ],
      "metadata": {
        "id": "slUQ8vqrc5SE"
      },
      "execution_count": null,
      "outputs": []
    },
    {
      "cell_type": "markdown",
      "source": [
        "## **8.7 Decision Tree**"
      ],
      "metadata": {
        "id": "v_MBUmxaACyi"
      }
    },
    {
      "cell_type": "markdown",
      "source": [
        "A decision tree is a tree-like model used in machine learning to make predictions or decisions by breaking down a set of rules or conditions into smaller and smaller sub-conditions, based on the values of the input features.\n",
        "\n",
        "Each node in the tree represents a test on a feature, and each branch represents the outcome of the test. The final branches of the tree, called the leaves, represent the class predictions or decisions. The tree is built recursively by finding the best feature to split the data based on the information gain or decrease in impurity at each node."
      ],
      "metadata": {
        "id": "4J5DDCKlAH5x"
      }
    },
    {
      "cell_type": "code",
      "source": [
        "predict(DecisionTreeRegressor(min_samples_leaf=20, min_samples_split=3,max_depth=20, random_state=33), 'Decision Tree')"
      ],
      "metadata": {
        "id": "L3CWHqL9AFfC"
      },
      "execution_count": null,
      "outputs": []
    },
    {
      "cell_type": "markdown",
      "source": [
        "## **8.8 Random Forest**"
      ],
      "metadata": {
        "id": "I3dOXiuBAzOn"
      }
    },
    {
      "cell_type": "markdown",
      "source": [
        "Random Forest is an ensemble machine learning algorithm that builds multiple decision trees and combines their predictions to make a final classification or regression prediction. In contrast to a single decision tree, Random Forest reduces the risk of overfitting by combining the results of many trees, each built on a different subset of the data."
      ],
      "metadata": {
        "id": "iQg7WHQxA3oA"
      }
    },
    {
      "cell_type": "markdown",
      "source": [
        "**Hyperparameter Tunning using GridSearchCV**"
      ],
      "metadata": {
        "id": "OUVnxJDRA7hp"
      }
    },
    {
      "cell_type": "code",
      "source": [
        "param_grid = {'n_estimators': [50,80],       # number of trees in the ensemble\n",
        "             'max_depth': [15,20],           # maximum number of levels allowed in each tree.\n",
        "             'min_samples_split': [5,15],    # minimum number of samples necessary in a node to cause node splitting.\n",
        "             'min_samples_leaf': [3,5]}      # minimum number of samples which can be stored in a tree leaf.\n",
        "\n",
        "\n",
        "# Initialize the RandomForestRegressor model\n",
        "rf = RandomForestRegressor()\n",
        "\n",
        "# Use GridSearchCV to perform a grid search over the parameter grid\n",
        "grid_search = GridSearchCV(rf, param_grid=param_grid, cv=5, scoring='r2')\n",
        "\n",
        "# Fit the model to the training data\n",
        "grid_search.fit(X, y)"
      ],
      "metadata": {
        "id": "a2AT2sGYA1fv"
      },
      "execution_count": null,
      "outputs": []
    },
    {
      "cell_type": "code",
      "source": [
        "# Get the best parameters from the grid search\n",
        "rf_optimal_model = grid_search.best_estimator_\n",
        "rf_optimal_model"
      ],
      "metadata": {
        "id": "IAp4qPb_BEPY"
      },
      "execution_count": null,
      "outputs": []
    },
    {
      "cell_type": "code",
      "source": [
        "\n",
        "predict(rf_optimal_model, 'Random Forest')"
      ],
      "metadata": {
        "id": "sKRt8UFqBIBM"
      },
      "execution_count": null,
      "outputs": []
    },
    {
      "cell_type": "markdown",
      "source": [
        "# **Model Explainability**"
      ],
      "metadata": {
        "id": "43bLIfFEBM9T"
      }
    },
    {
      "cell_type": "code",
      "source": [
        "# feature importance\n",
        "importances = rf_optimal_model.feature_importances_\n",
        "\n",
        "# Creating a dictonary\n",
        "importance_dict = {'Feature' : list(X.columns),\n",
        "                   'Feature Importance' : importances}\n",
        "\n",
        "# Creating the dataframe\n",
        "importance = pd.DataFrame(importance_dict)\n",
        "sorting_features = importance.sort_values(by=['Feature Importance'],ascending=False)\n",
        "sorting_features"
      ],
      "metadata": {
        "id": "UNNjFPglBO9E"
      },
      "execution_count": null,
      "outputs": []
    },
    {
      "cell_type": "code",
      "source": [
        "# plotting feature importance graph\n",
        "plt.figure(figsize=(15,5))\n",
        "bar = sns.barplot(x='Feature Importance', y='Feature', data=sorting_features, color='blue')\n",
        "bar.set_title('Important Features')\n",
        "plt.show()"
      ],
      "metadata": {
        "id": "lH1VJqwlBWgQ"
      },
      "execution_count": null,
      "outputs": []
    },
    {
      "cell_type": "markdown",
      "source": [
        "**The top 5 important features in Random Forest are temperature, hour, functioning_day, rainfall, and humidity**"
      ],
      "metadata": {
        "id": "1lnJr_-sBZzN"
      }
    },
    {
      "cell_type": "markdown",
      "source": [
        "## **8.9 AdaBoost**"
      ],
      "metadata": {
        "id": "qdNkHJbCBgXw"
      }
    },
    {
      "cell_type": "markdown",
      "source": [
        "AdaBoost (Adaptive Boosting) is an ensemble machine learning algorithm that combines multiple weak models to form a stronger model. It works by assigning weights to the data points in a dataset and iteratively building weak models that try to correctly classify or predict the target variable. After each iteration, the weights of the misclassified or mispredicted data points are increased, making it more likely that the next weak model will focus on these points."
      ],
      "metadata": {
        "id": "IIwZgJMcBl5Z"
      }
    },
    {
      "cell_type": "code",
      "source": [
        "# Create a base decision tree regression model\n",
        "dt = DecisionTreeRegressor(max_depth=12)\n",
        "\n",
        "# Initialize the AdaBoost regression model\n",
        "ada = AdaBoostRegressor(base_estimator=dt, n_estimators=60, learning_rate=1, random_state =33)\n",
        "\n",
        "# Predict using function\n",
        "predict(ada, 'AdaBoost')"
      ],
      "metadata": {
        "id": "O9KRXFWzBbTE"
      },
      "execution_count": null,
      "outputs": []
    },
    {
      "cell_type": "markdown",
      "source": [
        "## **8.10 Xtreme Gradient Boosting**"
      ],
      "metadata": {
        "id": "nwD-oHObBs_q"
      }
    },
    {
      "cell_type": "markdown",
      "source": [
        "XGBoost (eXtreme Gradient Boosting) is an optimized implementation of the Gradient Boosting algorithm that is specifically designed for large-scale and complex data. XGBoost is an ensemble learning algorithm that builds multiple decision trees and combines their predictions to make a final prediction."
      ],
      "metadata": {
        "id": "8PuJmWnTBxHG"
      }
    },
    {
      "cell_type": "markdown",
      "source": [
        "**HyperParameter Tunning using GridSearchCV**"
      ],
      "metadata": {
        "id": "M2fYL7iAB0IL"
      }
    },
    {
      "cell_type": "code",
      "source": [
        "param_grid = {'n_estimators': [300,500],     # number of trees in the ensemble\n",
        "             'max_depth': [7,8],             # maximum number of levels allowed in each tree.\n",
        "             'min_samples_split': [3,5],     # minimum number of samples necessary in a node to cause node splitting.\n",
        "             'min_samples_leaf': [3,5]}      # minimum number of samples which can be stored in a tree leaf.\n",
        "\n",
        "\n",
        "# Initialize the RandomForestRegressor model\n",
        "xgb = XGBRegressor()\n",
        "\n",
        "# Use GridSearchCV to perform a grid search over the parameter grid\n",
        "grid_search = GridSearchCV(xgb, param_grid=param_grid, cv=5, scoring='r2')\n",
        "\n",
        "# Fit the model to the training data\n",
        "grid_search.fit(X, y)"
      ],
      "metadata": {
        "id": "JkdmPcJJBu7k"
      },
      "execution_count": null,
      "outputs": []
    },
    {
      "cell_type": "code",
      "source": [
        "# Get the best parameters from the grid search\n",
        "xgb_optimal_model = grid_search.best_estimator_\n",
        "xgb_optimal_model"
      ],
      "metadata": {
        "id": "Xmrd_KMgB6xS"
      },
      "execution_count": null,
      "outputs": []
    },
    {
      "cell_type": "code",
      "source": [
        "predict(xgb_optimal_model, 'XGB')"
      ],
      "metadata": {
        "id": "Rub2UdtxB9Ry"
      },
      "execution_count": null,
      "outputs": []
    },
    {
      "cell_type": "markdown",
      "source": [
        "**Model Explainability**"
      ],
      "metadata": {
        "id": "LD4pqTHlCAnH"
      }
    },
    {
      "cell_type": "code",
      "source": [
        "# feature importance\n",
        "importances = xgb_optimal_model.feature_importances_\n",
        "\n",
        "# Creating a dictonary\n",
        "importance_dict = {'Feature' : list(X.columns),\n",
        "                   'Feature Importance' : importances}\n",
        "\n",
        "# Creating the dataframe\n",
        "importance = pd.DataFrame(importance_dict)\n",
        "sorting_features = importance.sort_values(by=['Feature Importance'],ascending=False)\n",
        "sorting_features"
      ],
      "metadata": {
        "id": "7cRyA0SrCBx_"
      },
      "execution_count": null,
      "outputs": []
    },
    {
      "cell_type": "code",
      "source": [
        "\n",
        "# plotting feature importance graph\n",
        "plt.figure(figsize=(15,5))\n",
        "bar = sns.barplot(x='Feature Importance', y='Feature', data=sorting_features, color='blue')\n",
        "bar.set_title('Important Features')\n",
        "plt.show()"
      ],
      "metadata": {
        "id": "OyVEcbA5CGqt"
      },
      "execution_count": null,
      "outputs": []
    },
    {
      "cell_type": "markdown",
      "source": [
        "**The top 5 important features in XGB Model are season_winter, functioning_day, rainfall, hour, and season_autumn**"
      ],
      "metadata": {
        "id": "LXb1xCLiCKNw"
      }
    },
    {
      "cell_type": "markdown",
      "source": [
        "## **8.11 Light GBM**"
      ],
      "metadata": {
        "id": "Q-VBgtNzCOSz"
      }
    },
    {
      "cell_type": "markdown",
      "source": [
        "LightGBM is a gradient boosting framework that uses tree-based learning algorithms. It is designed to be more efficient than traditional gradient boosting algorithms and is particularly well-suited for large datasets.LightGBM is an open-source library that was developed by Microsoft.\n",
        "\n",
        "One of the key features of LightGBM is its use of a histogram-based approach to split nodes in decision trees."
      ],
      "metadata": {
        "id": "eIs2nnPZCS0m"
      }
    },
    {
      "cell_type": "markdown",
      "source": [
        "**HyperParameter Tunning using GridSearchCV**"
      ],
      "metadata": {
        "id": "UQgFemAFCVmW"
      }
    },
    {
      "cell_type": "code",
      "source": [
        "param_grid = {'n_estimators': [600,800],     # number of trees in the ensemble\n",
        "             'max_depth': [8,10],            # maximum number of levels allowed in each tree.\n",
        "             'min_samples_split': [3,5],     # minimum number of samples necessary in a node to cause node splitting.\n",
        "             'min_samples_leaf': [2,3]}      # minimum number of samples which can be stored in a tree leaf.\n",
        "\n",
        "\n",
        "# Initialize the RandomForestRegressor model\n",
        "lgb = LGBMRegressor()\n",
        "\n",
        "# Use GridSearchCV to perform a grid search over the parameter grid\n",
        "grid_search = GridSearchCV(lgb, param_grid=param_grid, cv=5, scoring='r2')\n",
        "\n",
        "# Fit the model to the training data\n",
        "grid_search.fit(X, y)\n"
      ],
      "metadata": {
        "id": "7ILrePPeCMIP"
      },
      "execution_count": null,
      "outputs": []
    },
    {
      "cell_type": "code",
      "source": [
        "# Get the best parameters from the grid search\n",
        "lgb_optimal_model = grid_search.best_estimator_\n",
        "lgb_optimal_model"
      ],
      "metadata": {
        "id": "ehoc_BIfCcSM"
      },
      "execution_count": null,
      "outputs": []
    },
    {
      "cell_type": "code",
      "source": [
        "predict(lgb_optimal_model, 'LGB')"
      ],
      "metadata": {
        "id": "GJMnqY2gCe4q"
      },
      "execution_count": null,
      "outputs": []
    },
    {
      "cell_type": "markdown",
      "source": [
        "**Model Explainability**"
      ],
      "metadata": {
        "id": "GLyuMZ2WCkhR"
      }
    },
    {
      "cell_type": "code",
      "source": [
        "# feature importance\n",
        "importances = lgb_optimal_model.feature_importances_\n",
        "\n",
        "#Creating a dictonary\n",
        "importance_dict = {'Feature' : list(X.columns),\n",
        "                   'Feature Importance' : importances}\n",
        "\n",
        "#Creating the dataframe\n",
        "importance = pd.DataFrame(importance_dict)\n",
        "sorting_features = importance.sort_values(by=['Feature Importance'],ascending=False)\n",
        "sorting_features"
      ],
      "metadata": {
        "id": "6xHJaajuCmMB"
      },
      "execution_count": null,
      "outputs": []
    },
    {
      "cell_type": "code",
      "source": [
        "# plotting feature importance graph\n",
        "plt.figure(figsize=(15,5))\n",
        "bar=sns.barplot(x='Feature Importance', y='Feature', data=sorting_features, color='blue')\n",
        "bar.set_title('Important Features')\n",
        "plt.show()"
      ],
      "metadata": {
        "id": "azlwFgviCtI9"
      },
      "execution_count": null,
      "outputs": []
    },
    {
      "cell_type": "markdown",
      "source": [
        "**The top 5 important features in XGB Model are temperature, humidity, visibility, hour, and day.**"
      ],
      "metadata": {
        "id": "IPDCr8gCCxHD"
      }
    },
    {
      "cell_type": "markdown",
      "source": [
        "## **8.12 Model Result**"
      ],
      "metadata": {
        "id": "wHmo3jB2C9KE"
      }
    },
    {
      "cell_type": "markdown",
      "source": [
        "The fit of the model to the dependent variables can be evaluated using the R square measure. On the other hand, overfitting is not taken into consideration. If there are a lot of independent variables in the regression model, it may work well with training data but fail with testing data because it is too complicated. Adjusted R Square is a new metric that penalizes additional independent variables added to the model and adjusts the metric to prevent overfitting.\n",
        "\n",
        "Because it estimates the relationship between the movements of a dependent variable and those of an independent variable, R square is the best evaluation method for predicting the rented_bike_count."
      ],
      "metadata": {
        "id": "QqKs0HqYDC6A"
      }
    },
    {
      "cell_type": "code",
      "source": [
        "# converting the model_result list into DataFrame\n",
        "model_result = pd.DataFrame(model_result)\n",
        "\n",
        "# sorting the values by test R2 score\n",
        "model_result.sort_values(by='test R2', ascending=False)"
      ],
      "metadata": {
        "id": "PuNdxnyZCy4T"
      },
      "execution_count": null,
      "outputs": []
    },
    {
      "cell_type": "code",
      "source": [
        "# plotting graph to compare model performance of all the models\n",
        "fig, ax = plt.subplots(1,2, figsize=(15,5))\n",
        "sns.barplot(x=model_result['model'], y=model_result['test R2'], ax=ax[0])           # Model Vs test R2\n",
        "sns.barplot(x=model_result['model'], y=model_result['test Adj R2'], ax=ax[1])       # Model Vs test Adj R2\n",
        "plt.tight_layout()"
      ],
      "metadata": {
        "id": "5lKICe4dDJxF"
      },
      "execution_count": null,
      "outputs": []
    },
    {
      "cell_type": "markdown",
      "source": [
        "**From the above result, we can select XGB or LGB Regressor as the final model because it has the lowest RMSE value as well as the highest R2 score on the test data. I would go with LGB because it is considered a better model for large dataset and it is explaining the features which it is taking into account in better manner.**"
      ],
      "metadata": {
        "id": "2ci1KUmSDNAn"
      }
    },
    {
      "cell_type": "markdown",
      "source": [
        "# **9. Conclusion**"
      ],
      "metadata": {
        "id": "4FiMmDjkDR8G"
      }
    },
    {
      "cell_type": "markdown",
      "source": [
        "**Summary**"
      ],
      "metadata": {
        "id": "Eg56GlK1DWk5"
      }
    },
    {
      "cell_type": "markdown",
      "source": [
        "We began our analysis by performing EDA on all of our datasets. First, we looked at and changed our dependent variable, \"Rental Bike Count.\" After that, we looked at categorical variables and numerical variables and discovered their correlation, distribution, and connection to the dependent variable. Additionally, we hot-encoded the categorical variables and removed some numerical features which are used only for EDA purposes and have multi-collinearity.\n",
        "\n",
        "Following that, we examine several well-known individual models, ranging from straightforward Linear Regression and Regularization Models (Ridge, Lasso, and Elastic Net) to more complex and ensemble models like Random Forest, Gradient Boost, and Light GBM. To enhance the performance of our model, we performed hyperparameter tuning."
      ],
      "metadata": {
        "id": "DJ7BFucPDbJO"
      }
    },
    {
      "cell_type": "markdown",
      "source": [
        "## **Conclusion**"
      ],
      "metadata": {
        "id": "SEEYAe52DeTe"
      }
    },
    {
      "cell_type": "markdown",
      "source": [
        "1. Here are some solutions to manage Bike Sharing Demand.\n",
        "- The majority of rentals are for daily commutes to workplaces and colleges. Therefore open additional stations near these landmarks to reach their primary customers.\n",
        "- While planning for extra bikes to stations the peak rental hours must be considered, i.e. 7–9 am and 5–6 pm.\n",
        "- Maintenance activities for bikes should be done at night due to the low usage of bikes during the night time. Removing some bikes from the streets at night time will not cause trouble for the customers.\n",
        "2. We see 2 rental patterns across the day in bike rental count - first for a Working Day where the rental count is high at peak office hours (8 am and 5 pm) and the second for a Non-working day where the rental count is more or less uniform across the day with a peak at around noon.\n",
        "3. Hour of the day: Bike rental count is mostly correlated with the time of the day. As indicated above, the count reaches a high point during peak hours on a working day and is mostly uniform during the day on a non-working day.\n",
        "4. Temperature: People generally prefer to bike at moderate to high temperatures. We see the highest rental counts between 32 to 36 degrees Celcius\n",
        "5. Season: We see the highest number of bike rentals in the Spring (July to September) and Summer (April to June) Seasons and the lowest in the Winter (January to March) season.\n",
        "6. Weather: As one would expect, we see the highest number of bike rentals on a clear day and the lowest on a snowy or rainy day\n",
        "7. Humidity: With increasing humidity, we see a decrease in the bike rental count.\n",
        "8. I have chosen the Light GBM model which is above all else I want better expectations for the rented_bike_count and time isn't compelling here. As a result, various linear models, decision trees, Random Forests, and Gradient Boost techniques were used to improve accuracy. I compared R2 metrics to choose a model.\n",
        "9. Due to less no. of data in the dataset, the training R2 score is around 99% and the test R2 score is 92.5%. Once we get more data we can retrain our algorithm for better performance."
      ],
      "metadata": {
        "id": "0qz4ghNJDxah"
      }
    },
    {
      "cell_type": "markdown",
      "source": [
        "## **Way Forward**"
      ],
      "metadata": {
        "id": "44O036lHEuV3"
      }
    },
    {
      "cell_type": "markdown",
      "source": [
        "However, this is not the ultimate end. As this data is time-dependent, the values for variables like temperature, wind speed, solar radiation, etc., will not always be consistent. Therefore, there will be scenarios where the model might not perform well. As Machine learning is an exponentially evolving field, we will have to be prepared for all contingencies and also keep checking our model from time to time. Therefore, having quality knowledge and keeping pace with the ever-evolving ML field would surely help one to stay a step ahead in the future."
      ],
      "metadata": {
        "id": "iGspxcZZEzEh"
      }
    },
    {
      "cell_type": "markdown",
      "source": [
        "### ***Hurrah! You have successfully completed your Machine Learning Capstone Project !!!***"
      ],
      "metadata": {
        "id": "yM0DFvaHEczR"
      }
    },
    {
      "cell_type": "code",
      "source": [],
      "metadata": {
        "id": "APOE70LHDOfE"
      },
      "execution_count": null,
      "outputs": []
    }
  ]
}